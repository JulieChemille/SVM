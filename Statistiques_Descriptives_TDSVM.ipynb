{
  "nbformat": 4,
  "nbformat_minor": 0,
  "metadata": {
    "colab": {
      "provenance": [],
      "authorship_tag": "ABX9TyOhIFbLSyslhdo8s7IRrn/H",
      "include_colab_link": true
    },
    "kernelspec": {
      "name": "python3",
      "display_name": "Python 3"
    },
    "language_info": {
      "name": "python"
    }
  },
  "cells": [
    {
      "cell_type": "markdown",
      "metadata": {
        "id": "view-in-github",
        "colab_type": "text"
      },
      "source": [
        "<a href=\"https://colab.research.google.com/github/JulieChemille/SVM/blob/main/Statistiques_Descriptives_TDSVM.ipynb\" target=\"_parent\"><img src=\"https://colab.research.google.com/assets/colab-badge.svg\" alt=\"Open In Colab\"/></a>"
      ]
    },
    {
      "cell_type": "markdown",
      "source": [
        "# **Statistiques descriptives sur une base de données macro**"
      ],
      "metadata": {
        "id": "7KmBPZ8_Ob6Y"
      }
    },
    {
      "cell_type": "markdown",
      "source": [
        "### Préparation de l'environnement et importation de la base\n",
        "\n",
        "---\n",
        "\n"
      ],
      "metadata": {
        "id": "P4Smuz3V7h1x"
      }
    },
    {
      "cell_type": "code",
      "source": [
        "#Chargement des packages\n",
        "import os\n",
        "\n",
        "import pandas as pd\n",
        "import numpy as np\n",
        "import seaborn as sns\n",
        "import matplotlib.pyplot as plt\n",
        "import random\n",
        "\n",
        "import plotly\n",
        "import plotly.express as px\n",
        "from IPython.display import HTML #pour afficher les graphs\n",
        "# dans une cellule de notebook"
      ],
      "metadata": {
        "id": "WQKHnqPp7Ggu"
      },
      "execution_count": 3,
      "outputs": []
    },
    {
      "cell_type": "code",
      "execution_count": null,
      "metadata": {
        "id": "KVqjEdLQvBPG"
      },
      "outputs": [],
      "source": [
        "#Chargement de la base de données sur google colab\n",
        "from google.colab import files\n",
        "files.upload() \n"
      ]
    },
    {
      "cell_type": "code",
      "source": [
        "bdd = pd.read_excel('1-Data_all_.xlsx')\n",
        "db = pd.DataFrame(data=bdd)"
      ],
      "metadata": {
        "id": "lri8AvaJ7noz"
      },
      "execution_count": 5,
      "outputs": []
    },
    {
      "cell_type": "markdown",
      "source": [
        "Pour cette analyse des statistiques descriptives nous nous concentrerons sur l'année 2016 (la base de données étant constituée des mêmes variables sur les deux années)."
      ],
      "metadata": {
        "id": "b3J647Tuxvme"
      }
    },
    {
      "cell_type": "code",
      "source": [
        "db = db.iloc[:,:25] #on séléctionne toutes les lignes et toutes les colonnes jusqu'à la dernière variable \"2016\""
      ],
      "metadata": {
        "id": "JPSJWWADwOJl"
      },
      "execution_count": 6,
      "outputs": []
    },
    {
      "cell_type": "code",
      "source": [
        "db.columns #vérification "
      ],
      "metadata": {
        "colab": {
          "base_uri": "https://localhost:8080/"
        },
        "id": "dkLN2rqT7zTS",
        "outputId": "d1b66890-e305-414d-818c-622dceafac5c"
      },
      "execution_count": null,
      "outputs": [
        {
          "output_type": "execute_result",
          "data": {
            "text/plain": [
              "Index(['Name', 'CROIS_2016', 'ELEC_2016', 'PI_2016', 'VA_2016', 'TTR_2016',\n",
              "       'TXMORTI_2016', 'TXMORT_2016', 'IED_2016', 'EDVN_2016', 'PT_2016',\n",
              "       'INF_2016', 'MASSM_2016', 'TXCH_2016', 'PA_2016', 'TRSM_2016',\n",
              "       'CHO_2016', 'CMARCH_2016', 'X_2016', 'M_2016', 'FBCF_2016', 'TXF_2016',\n",
              "       'TRSPRT_2016', 'ABTE_2016', 'TAGR_2016'],\n",
              "      dtype='object')"
            ]
          },
          "metadata": {},
          "execution_count": 272
        }
      ]
    },
    {
      "cell_type": "code",
      "source": [
        "db.shape"
      ],
      "metadata": {
        "colab": {
          "base_uri": "https://localhost:8080/"
        },
        "id": "bBwJQbds4l73",
        "outputId": "3d9701b4-dfae-439a-f41b-4f76d3ee54eb"
      },
      "execution_count": null,
      "outputs": [
        {
          "output_type": "execute_result",
          "data": {
            "text/plain": [
              "(241, 25)"
            ]
          },
          "metadata": {},
          "execution_count": 160
        }
      ]
    },
    {
      "cell_type": "markdown",
      "source": [
        "### Petite analyse *exploratoire*\n",
        "\n",
        "---\n",
        "\n"
      ],
      "metadata": {
        "id": "PUejFpiPLanj"
      }
    },
    {
      "cell_type": "code",
      "source": [
        "db.info() #toutes nos variables sont correctement codées"
      ],
      "metadata": {
        "id": "6OOsA0Be5aJ2",
        "colab": {
          "base_uri": "https://localhost:8080/"
        },
        "outputId": "792f511d-2e1e-43f1-a37f-24a099dc2b33"
      },
      "execution_count": 7,
      "outputs": [
        {
          "output_type": "stream",
          "name": "stdout",
          "text": [
            "<class 'pandas.core.frame.DataFrame'>\n",
            "RangeIndex: 241 entries, 0 to 240\n",
            "Data columns (total 25 columns):\n",
            " #   Column        Non-Null Count  Dtype  \n",
            "---  ------        --------------  -----  \n",
            " 0   Name          241 non-null    object \n",
            " 1   CROIS_2016    230 non-null    float64\n",
            " 2   ELEC_2016     239 non-null    float64\n",
            " 3   PI_2016       181 non-null    float64\n",
            " 4   VA_2016       217 non-null    float64\n",
            " 5   TTR_2016      165 non-null    float64\n",
            " 6   TXMORTI_2016  218 non-null    float64\n",
            " 7   TXMORT_2016   229 non-null    float64\n",
            " 8   IED_2016      223 non-null    float64\n",
            " 9   EDVN_2016     224 non-null    float64\n",
            " 10  PT_2016       240 non-null    float64\n",
            " 11  INF_2016      231 non-null    float64\n",
            " 12  MASSM_2016    181 non-null    float64\n",
            " 13  TXCH_2016     196 non-null    float64\n",
            " 14  PA_2016       211 non-null    float64\n",
            " 15  TRSM_2016     188 non-null    float64\n",
            " 16  CHO_2016      211 non-null    float64\n",
            " 17  CMARCH_2016   225 non-null    float64\n",
            " 18  X_2016        211 non-null    float64\n",
            " 19  M_2016        211 non-null    float64\n",
            " 20  FBCF_2016     195 non-null    float64\n",
            " 21  TXF_2016      223 non-null    float64\n",
            " 22  TRSPRT_2016   179 non-null    float64\n",
            " 23  ABTE_2016     224 non-null    float64\n",
            " 24  TAGR_2016     233 non-null    float64\n",
            "dtypes: float64(24), object(1)\n",
            "memory usage: 47.2+ KB\n"
          ]
        }
      ]
    },
    {
      "cell_type": "code",
      "source": [
        "#round(db.describe(),2)"
      ],
      "metadata": {
        "id": "9EHnwE_Fu9Fk"
      },
      "execution_count": 8,
      "outputs": []
    },
    {
      "cell_type": "code",
      "source": [
        "db.isna().sum()"
      ],
      "metadata": {
        "colab": {
          "base_uri": "https://localhost:8080/"
        },
        "id": "rKyJOpmK040P",
        "outputId": "c93d4e05-ebb6-456d-aee8-9bf4ae2ebd50"
      },
      "execution_count": 9,
      "outputs": [
        {
          "output_type": "execute_result",
          "data": {
            "text/plain": [
              "Name             0\n",
              "CROIS_2016      11\n",
              "ELEC_2016        2\n",
              "PI_2016         60\n",
              "VA_2016         24\n",
              "TTR_2016        76\n",
              "TXMORTI_2016    23\n",
              "TXMORT_2016     12\n",
              "IED_2016        18\n",
              "EDVN_2016       17\n",
              "PT_2016          1\n",
              "INF_2016        10\n",
              "MASSM_2016      60\n",
              "TXCH_2016       45\n",
              "PA_2016         30\n",
              "TRSM_2016       53\n",
              "CHO_2016        30\n",
              "CMARCH_2016     16\n",
              "X_2016          30\n",
              "M_2016          30\n",
              "FBCF_2016       46\n",
              "TXF_2016        18\n",
              "TRSPRT_2016     62\n",
              "ABTE_2016       17\n",
              "TAGR_2016        8\n",
              "dtype: int64"
            ]
          },
          "metadata": {},
          "execution_count": 9
        }
      ]
    },
    {
      "cell_type": "code",
      "source": [
        "na_list = db.isna().sum()\n",
        "sum(na_list >= 30)\n",
        "\n",
        "#j'aimerais supprimer les variables avec trop de NA : \n",
        "\n",
        "#for i in db.columns:\n",
        "  #if na_list.values >= 30:\n",
        "    #print(db[:,i])\n",
        "\n",
        "#Echec, je fais sans."
      ],
      "metadata": {
        "colab": {
          "base_uri": "https://localhost:8080/"
        },
        "id": "JooRZm32m1wC",
        "outputId": "1957818b-a683-4fdc-919c-33b69ec75433"
      },
      "execution_count": 10,
      "outputs": [
        {
          "output_type": "execute_result",
          "data": {
            "text/plain": [
              "11"
            ]
          },
          "metadata": {},
          "execution_count": 10
        }
      ]
    },
    {
      "cell_type": "code",
      "source": [
        "db.dropna(inplace=True)"
      ],
      "metadata": {
        "id": "iv9zhzPt08-b"
      },
      "execution_count": 11,
      "outputs": []
    },
    {
      "cell_type": "code",
      "source": [
        "#db.isna().sum()"
      ],
      "metadata": {
        "id": "Q10ghjj11RLI"
      },
      "execution_count": 12,
      "outputs": []
    },
    {
      "cell_type": "code",
      "source": [
        "db.shape #grosse reduction de la base en terme d'individus"
      ],
      "metadata": {
        "colab": {
          "base_uri": "https://localhost:8080/"
        },
        "id": "UFXR16Ea4q8l",
        "outputId": "06294aa3-1a36-4f1c-e18c-873bb005e59a"
      },
      "execution_count": 13,
      "outputs": [
        {
          "output_type": "execute_result",
          "data": {
            "text/plain": [
              "(69, 25)"
            ]
          },
          "metadata": {},
          "execution_count": 13
        }
      ]
    },
    {
      "cell_type": "code",
      "source": [
        "#round(db.describe(),2) #Gros changements dans les stats descs"
      ],
      "metadata": {
        "id": "Uy4OgfVj50k7"
      },
      "execution_count": 14,
      "outputs": []
    },
    {
      "cell_type": "code",
      "source": [
        "print(\"La moyenne du taux de croissance en 2016 (dans la BDD) était de \" , round(db['CROIS_2016'].mean(),2), \"%. \")"
      ],
      "metadata": {
        "id": "DW3W1YKPPQti",
        "colab": {
          "base_uri": "https://localhost:8080/"
        },
        "outputId": "1d0a18c6-a848-47e6-99ff-bac95508f1b3"
      },
      "execution_count": 15,
      "outputs": [
        {
          "output_type": "stream",
          "name": "stdout",
          "text": [
            "La moyenne du taux de croissance en 2016 (dans la BDD) était de  3.11 %. \n"
          ]
        }
      ]
    },
    {
      "cell_type": "code",
      "source": [
        "print(\"Le taux de croissance le + élevé en 2016 (dans la BDD) était\" , round(db['CROIS_2016'].max(),2), \"%. alors que le minimum était de :\", round(db['CROIS_2016'].min(),2), \"%.\")"
      ],
      "metadata": {
        "colab": {
          "base_uri": "https://localhost:8080/"
        },
        "id": "1yU24IXjO2mW",
        "outputId": "1ae1bc63-f0e4-4644-a146-25f93e3bc13a"
      },
      "execution_count": 16,
      "outputs": [
        {
          "output_type": "stream",
          "name": "stdout",
          "text": [
            "Le taux de croissance le + élevé en 2016 (dans la BDD) était 10.51 %. alors que le minimum était de : -3.28 %.\n"
          ]
        }
      ]
    },
    {
      "cell_type": "code",
      "source": [
        "db['CROIS_2016'].idxmax()\n",
        "#ici j'aurais bien aimé récupérer le nom du pays mais ça n'a pas de sens j'ai 140 en index (>taille DB)\n",
        "#df.iloc[140,:]"
      ],
      "metadata": {
        "colab": {
          "base_uri": "https://localhost:8080/"
        },
        "id": "BgiJK_V3QjYr",
        "outputId": "bbd016ee-7d72-46e9-c9dc-7709e3f32e06"
      },
      "execution_count": 17,
      "outputs": [
        {
          "output_type": "execute_result",
          "data": {
            "text/plain": [
              "140"
            ]
          },
          "metadata": {},
          "execution_count": 17
        }
      ]
    },
    {
      "cell_type": "markdown",
      "source": [
        "###Partie graphique"
      ],
      "metadata": {
        "id": "je6Nn8E3OwDc"
      }
    },
    {
      "cell_type": "code",
      "source": [
        "# module permettant de générer des nb aléatoires\n",
        "import random\n",
        "# création de notre liste\n",
        "list_var=[]\n",
        "# notre boucle aura 15 itérations\n",
        "for i in range(15):\n",
        "   # on génère aléatoirement un chiffre compris entre 0 et 25 (nb de var)\n",
        "   x=random.randint(0,25)\n",
        "   # on vérifie que le chiffre n'est pas déjà dans list_var\n",
        "   if x not in list_var:\n",
        "      # appending the random number to the resultant list, if the condition is true\n",
        "      list_var.append(x)\n",
        "# printing the resultant random numbers list\n",
        "print(\"les variables retirées sont\")\n",
        "print(list_var)"
      ],
      "metadata": {
        "colab": {
          "base_uri": "https://localhost:8080/"
        },
        "id": "XXURzDGXXcoa",
        "outputId": "d0e7e858-b938-4096-ddc4-9569beae16e4"
      },
      "execution_count": 18,
      "outputs": [
        {
          "output_type": "stream",
          "name": "stdout",
          "text": [
            "les variables retirées sont\n",
            "[6, 5, 20, 19, 9, 3, 1, 17, 0, 13, 8]\n"
          ]
        }
      ]
    },
    {
      "cell_type": "code",
      "source": [
        "#on ajoute 0 dans liste car nous aucun intérêt d'avoir des graphiques sur le nom des pays\n",
        "if 0 not in list_var:\n",
        "  list_var.append(0)\n",
        "\n",
        "print(\"les variables retirées sont:\", [13, 18, 4, 15, 14, 12, 21, 19, 9, 7, 20, 11, 5, 8, 3, 0])"
      ],
      "metadata": {
        "colab": {
          "base_uri": "https://localhost:8080/"
        },
        "id": "ONHys6mMz4oC",
        "outputId": "c3134f34-85b2-4b1e-ec12-a5f547cbef0b"
      },
      "execution_count": 21,
      "outputs": [
        {
          "output_type": "stream",
          "name": "stdout",
          "text": [
            "les variables retirées sont: [13, 18, 4, 15, 14, 12, 21, 19, 9, 7, 20, 11, 5, 8, 3, 0]\n"
          ]
        }
      ]
    },
    {
      "cell_type": "code",
      "source": [
        "db_2 = db.drop(db.columns[[13, 18, 4, 15, 14, 12, 21, 19, 9, 7, 20, 11, 5, 8, 3, 0]], axis=1) #mieux d'intégrer list_var ici\n",
        "print(\"notre base est désormais de dimension\", db_2.shape)"
      ],
      "metadata": {
        "id": "cClpM7O5Upq1",
        "colab": {
          "base_uri": "https://localhost:8080/"
        },
        "outputId": "25bab1eb-efe5-4b1d-a41d-46dd38a3fb95"
      },
      "execution_count": 22,
      "outputs": [
        {
          "output_type": "stream",
          "name": "stdout",
          "text": [
            "notre base est désormais de dimension (69, 9)\n"
          ]
        }
      ]
    },
    {
      "cell_type": "code",
      "source": [
        "#On génère un histogramme pour chacune des variables\n",
        "\n",
        "sns.set_palette(\"pastel\")\n",
        "\n",
        "for i in db_2.columns:\n",
        "    \n",
        "    plt.figure()\n",
        "    plt.title(f'{i}')\n",
        "    plt.hist(db_2[i])\n",
        "\n",
        "#ça aurait pu être plus joli avec subplot"
      ],
      "metadata": {
        "id": "DaWzi0BYAO9Y",
        "colab": {
          "base_uri": "https://localhost:8080/",
          "height": 1000
        },
        "outputId": "1884244b-5f42-4ac8-ce9d-5581c20c42fc"
      },
      "execution_count": 24,
      "outputs": [
        {
          "output_type": "display_data",
          "data": {
            "text/plain": [
              "<Figure size 432x288 with 1 Axes>"
            ],
            "image/png": "[encoded data removed]"
          },
          "metadata": {
            "needs_background": "light"
          }
        },
        {
          "output_type": "display_data",
          "data": {
            "text/plain": [
              "<Figure size 432x288 with 1 Axes>"
            ],
            "image/png": "[encoded data removed]"
          },
          "metadata": {
            "needs_background": "light"
          }
        },
        {
          "output_type": "display_data",
          "data": {
            "text/plain": [
              "<Figure size 432x288 with 1 Axes>"
            ],
            "image/png": "[encoded data removed]"
          },
          "metadata": {
            "needs_background": "light"
          }
        },
        {
          "output_type": "display_data",
          "data": {
            "text/plain": [
              "<Figure size 432x288 with 1 Axes>"
            ],
            "image/png": "[encoded data removed]"
          },
          "metadata": {
            "needs_background": "light"
          }
        },
        {
          "output_type": "display_data",
          "data": {
            "text/plain": [
              "<Figure size 432x288 with 1 Axes>"
            ],
            "image/png": "[encoded data removed]"
          },
          "metadata": {
            "needs_background": "light"
          }
        },
        {
          "output_type": "display_data",
          "data": {
            "text/plain": [
              "<Figure size 432x288 with 1 Axes>"
            ],
            "image/png": "[encoded data removed]"
          },
          "metadata": {
            "needs_background": "light"
          }
        },
        {
          "output_type": "display_data",
          "data": {
            "text/plain": [
              "<Figure size 432x288 with 1 Axes>"
            ],
            "image/png": "[encoded data removed]"
          },
          "metadata": {
            "needs_background": "light"
          }
        },
        {
          "output_type": "display_data",
          "data": {
            "text/plain": [
              "<Figure size 432x288 with 1 Axes>"
            ],
            "image/png": "[encoded data removed]"
          },
          "metadata": {
            "needs_background": "light"
          }
        },
        {
          "output_type": "display_data",
          "data": {
            "text/plain": [
              "<Figure size 432x288 with 1 Axes>"
            ],
            "image/png": "[encoded data removed]"
          },
          "metadata": {
            "needs_background": "light"
          }
        }
      ]
    },
    {
      "cell_type": "code",
      "source": [
        "import seaborn as sns\n",
        "\n",
        "sns.set_palette(\"Set2\")\n",
        "\n",
        "plt.subplot(1, 3, 1) # row 1, col 2 index 1\n",
        "plt.title(\"taux de croissance des pays en 2016\")\n",
        "sns.boxplot(y=db_2['CROIS_2016'])\n",
        "\n",
        "\n",
        "plt.subplot(1, 3, 3) # row 1, col 2 index 1\n",
        "plt.title(\"taux de chômage en 2016 (%)\")\n",
        "sns.boxplot(y=db_2['CHO_2016'])\n",
        "\n",
        "plt.show()\n",
        "print(\"Il semble y avoir des individus potentiellement atypiques pour ces deux variables.\")"
      ],
      "metadata": {
        "colab": {
          "base_uri": "https://localhost:8080/",
          "height": 285
        },
        "id": "2oSKujNRd8E-",
        "outputId": "e6bbb993-9a91-4bd8-def7-ebe4ad32ed24"
      },
      "execution_count": 25,
      "outputs": [
        {
          "output_type": "display_data",
          "data": {
            "text/plain": [
              "<Figure size 432x288 with 2 Axes>"
            ],
            "image/png": "[encoded data removed]"
          },
          "metadata": {
            "needs_background": "light"
          }
        },
        {
          "output_type": "stream",
          "name": "stdout",
          "text": [
            "Il semble y avoir des individus potentiellement atypiques pour ces deux variables.\n"
          ]
        }
      ]
    },
    {
      "cell_type": "code",
      "source": [
        "#!pip install OUTLIERS\n",
        "from outliers import smirnov_grubbs as grubbs\n",
        "\n",
        "#ça fonctionne pas dommage\n",
        "#de toute façon ici ce n'est pas un test de grubbs car plus d'1 idv potentiellement atypique\n",
        "#chercher autre méthode"
      ],
      "metadata": {
        "id": "Kt8WGQEa-9Em"
      },
      "execution_count": null,
      "outputs": []
    },
    {
      "cell_type": "code",
      "source": [
        "#Fonction pour faire matrice des correlations\n",
        "def correlation_matrix(df):\n",
        "    mask = np.triu(np.ones_like(df.corr(), dtype=bool))\n",
        "    plt.figure(figsize=(10,10), dpi = 70)\n",
        "    sns.heatmap(df.corr(), mask=mask, center=0, cmap='RdBu_r', \n",
        "                linewidths=1, annot=True, fmt=\".2f\")\n",
        "    plt.title('Matrice des corrélations', fontsize = 13, fontweight='bold')\n",
        "    plt.show()"
      ],
      "metadata": {
        "id": "fmdr8LXGCJ8X"
      },
      "execution_count": 27,
      "outputs": []
    },
    {
      "cell_type": "code",
      "source": [
        "correlation_matrix(db_2)\n",
        "#comme je ne me souviens pas de la signification de la plupart des variables\n",
        "#on retiendra que le taux de mortalité est fortement corrélé négativement avec le % de la population ayant \n",
        "#accès à l'éléctricité ou encore que le taux de chômage est relativement corrélé négativement avec le taux de croissance ..."
      ],
      "metadata": {
        "colab": {
          "base_uri": "https://localhost:8080/",
          "height": 655
        },
        "id": "XKcAONWyG1Rw",
        "outputId": "5e53e08a-1a17-4cfc-aa28-1d4c942931c3"
      },
      "execution_count": 28,
      "outputs": [
        {
          "output_type": "display_data",
          "data": {
            "text/plain": [
              "<Figure size 700x700 with 2 Axes>"
            ],
            "image/png": "[encoded data removed]"
          },
          "metadata": {
            "needs_background": "light"
          }
        }
      ]
    },
    {
      "cell_type": "code",
      "source": [
        "import seaborn as sns\n",
        "\n",
        "sns.set_palette(\"flare\")\n",
        "\n",
        "plt.subplot(121)\n",
        "plot = sns.scatterplot(x='CROIS_2016',y='CHO_2016',data=db_2)\n",
        "\n",
        "plt.subplot(122) \n",
        "plot = sns.scatterplot(x='CROIS_2016',y='TXMORTI_2016',data=db_2)\n",
        "\n",
        "#j'aimerais bien arriver à les séparer plus mais je n'arrive pas vraiment à manier figsize"
      ],
      "metadata": {
        "colab": {
          "base_uri": "https://localhost:8080/",
          "height": 280
        },
        "id": "H9cYyYn_H_kx",
        "outputId": "cb74d73f-92a8-42bc-abb0-c2dd3387d38e"
      },
      "execution_count": 30,
      "outputs": [
        {
          "output_type": "display_data",
          "data": {
            "text/plain": [
              "<Figure size 432x288 with 2 Axes>"
            ],
            "image/png": "[encoded data removed]"
          },
          "metadata": {
            "needs_background": "light"
          }
        }
      ]
    },
    {
      "cell_type": "code",
      "source": [
        "import plotly.express as px\n",
        "fig = px.scatter(db_2, x='CROIS_2016',y='TXMORTI_2016')\n",
        "fig.show()"
      ],
      "metadata": {
        "id": "czc1As1HQh70",
        "colab": {
          "base_uri": "https://localhost:8080/",
          "height": 542
        },
        "outputId": "d0be6a5f-bbbf-4f4b-8de1-6f3998348c4d"
      },
      "execution_count": 35,
      "outputs": [
        {
          "output_type": "display_data",
          "data": {
            "text/html": [
              "<html>\n",
              "<head><meta charset=\"utf-8\" /></head>\n",
              "<body>\n",
              "    <div>            <script src=\"https://cdnjs.cloudflare.com/ajax/libs/mathjax/2.7.5/MathJax.js?config=TeX-AMS-MML_SVG\"></script><script type=\"text/javascript\">if (window.MathJax) {MathJax.Hub.Config({SVG: {font: \"STIX-Web\"}});}</script>                <script type=\"text/javascript\">window.PlotlyConfig = {MathJaxConfig: 'local'};</script>\n",
              "        <script src=\"https://cdn.plot.ly/plotly-2.8.3.min.js\"></script>                <div id=\"22f8b20c-3abc-4a8f-ab46-dd83bb3662f6\" class=\"plotly-graph-div\" style=\"height:525px; width:100%;\"></div>            <script type=\"text/javascript\">                                    window.PLOTLYENV=window.PLOTLYENV || {};                                    if (document.getElementById(\"22f8b20c-3abc-4a8f-ab46-dd83bb3662f6\")) {                    Plotly.newPlot(                        \"22f8b20c-3abc-4a8f-ab46-dd83bb3662f6\",                        [{\"hovertemplate\":\"CROIS_2016=%{x}<br>TXMORTI_2016=%{y}<extra></extra>\",\"legendgroup\":\"\",\"marker\":{\"color\":\"#636efa\",\"symbol\":\"circle\"},\"mode\":\"markers\",\"name\":\"\",\"orientation\":\"v\",\"showlegend\":false,\"x\":[-2.5799999964437035,3.3149806838413696,-2.0803278437781074,2.7416430686472357,7.113478213272416,-0.8576643187557522,-2.5264464355236385,4.263920863821127,-3.2759169063211004,-2.477917718332236,8.127033538389398,7.036896950632411,2.0451864692661275,1.7530387490143795,4.535794235697338,2.0873825016279426,4.204323251758993,6.659200262695819,3.2000000000669075,-1.2263839846387867,2.445651796641741,2.906438780020636,2.677802555328256,3.892972197264129,3.5324322320744272,2.1919603693039136,5.033069182801768,8.256305501790862,4.46275381784649,1.9941808493012017,0.7538267459035382,1.099999999901641,4.213517068147439,4.335855917159677,6.933313973086101,1.554549409517719,1.0598563900817908,4.4088867087336325,3.9931460641238914,2.6305324245508928,10.507780780710178,2.949280320975106,1.489784485048645,3.824214319211876,3.837932628708458,4.449781397615411,0.0337944502063294,-1.6168689499181568,3.7674477167697935,5.526735844744593,3.953318715207672,7.149456750007516,3.1417257782969727,4.702997747494408,0.1936900717295344,5.970744298085265,3.5616979903604857,2.5459260860168484,3.3385867654298806,3.4351577169218217,1.1174258592038626,3.323084208457459,6.867116196445508,4.781000291463329,2.440981944920665,1.667472075961868,5.932150799921445,4.688677823006174,0.6645523078581164],\"xaxis\":\"x\",\"y\":[84.1,9.4,10.9,3.8,36.1,13.7,3.9,29.9,16.7,10.8,31.9,49.2,4.2,7.7,84.2,15.0,8.9,35.0,24.8,14.8,24.9,10.2,27.3,18.6,4.8,4.7,26.6,41.0,3.8,17.0,2.7,11.0,47.2,21.2,30.3,8.0,22.3,15.5,57.2,15.7,50.3,3.6,18.5,80.4,14.5,8.1,46.3,124.7,5.4,73.8,15.0,29.1,4.7,8.5,7.5,46.0,2.7,14.9,6.0,10.3,17.1,12.1,56.0,52.4,9.2,6.7,18.0,27.6,35.2],\"yaxis\":\"y\",\"type\":\"scatter\"}],                        {\"template\":{\"data\":{\"bar\":[{\"error_x\":{\"color\":\"#2a3f5f\"},\"error_y\":{\"color\":\"#2a3f5f\"},\"marker\":{\"line\":{\"color\":\"#E5ECF6\",\"width\":0.5},\"pattern\":{\"fillmode\":\"overlay\",\"size\":10,\"solidity\":0.2}},\"type\":\"bar\"}],\"barpolar\":[{\"marker\":{\"line\":{\"color\":\"#E5ECF6\",\"width\":0.5},\"pattern\":{\"fillmode\":\"overlay\",\"size\":10,\"solidity\":0.2}},\"type\":\"barpolar\"}],\"carpet\":[{\"aaxis\":{\"endlinecolor\":\"#2a3f5f\",\"gridcolor\":\"white\",\"linecolor\":\"white\",\"minorgridcolor\":\"white\",\"startlinecolor\":\"#2a3f5f\"},\"baxis\":{\"endlinecolor\":\"#2a3f5f\",\"gridcolor\":\"white\",\"linecolor\":\"white\",\"minorgridcolor\":\"white\",\"startlinecolor\":\"#2a3f5f\"},\"type\":\"carpet\"}],\"choropleth\":[{\"colorbar\":{\"outlinewidth\":0,\"ticks\":\"\"},\"type\":\"choropleth\"}],\"contour\":[{\"colorbar\":{\"outlinewidth\":0,\"ticks\":\"\"},\"colorscale\":[[0.0,\"#0d0887\"],[0.1111111111111111,\"#46039f\"],[0.2222222222222222,\"#7201a8\"],[0.3333333333333333,\"#9c179e\"],[0.4444444444444444,\"#bd3786\"],[0.5555555555555556,\"#d8576b\"],[0.6666666666666666,\"#ed7953\"],[0.7777777777777778,\"#fb9f3a\"],[0.8888888888888888,\"#fdca26\"],[1.0,\"#f0f921\"]],\"type\":\"contour\"}],\"contourcarpet\":[{\"colorbar\":{\"outlinewidth\":0,\"ticks\":\"\"},\"type\":\"contourcarpet\"}],\"heatmap\":[{\"colorbar\":{\"outlinewidth\":0,\"ticks\":\"\"},\"colorscale\":[[0.0,\"#0d0887\"],[0.1111111111111111,\"#46039f\"],[0.2222222222222222,\"#7201a8\"],[0.3333333333333333,\"#9c179e\"],[0.4444444444444444,\"#bd3786\"],[0.5555555555555556,\"#d8576b\"],[0.6666666666666666,\"#ed7953\"],[0.7777777777777778,\"#fb9f3a\"],[0.8888888888888888,\"#fdca26\"],[1.0,\"#f0f921\"]],\"type\":\"heatmap\"}],\"heatmapgl\":[{\"colorbar\":{\"outlinewidth\":0,\"ticks\":\"\"},\"colorscale\":[[0.0,\"#0d0887\"],[0.1111111111111111,\"#46039f\"],[0.2222222222222222,\"#7201a8\"],[0.3333333333333333,\"#9c179e\"],[0.4444444444444444,\"#bd3786\"],[0.5555555555555556,\"#d8576b\"],[0.6666666666666666,\"#ed7953\"],[0.7777777777777778,\"#fb9f3a\"],[0.8888888888888888,\"#fdca26\"],[1.0,\"#f0f921\"]],\"type\":\"heatmapgl\"}],\"histogram\":[{\"marker\":{\"pattern\":{\"fillmode\":\"overlay\",\"size\":10,\"solidity\":0.2}},\"type\":\"histogram\"}],\"histogram2d\":[{\"colorbar\":{\"outlinewidth\":0,\"ticks\":\"\"},\"colorscale\":[[0.0,\"#0d0887\"],[0.1111111111111111,\"#46039f\"],[0.2222222222222222,\"#7201a8\"],[0.3333333333333333,\"#9c179e\"],[0.4444444444444444,\"#bd3786\"],[0.5555555555555556,\"#d8576b\"],[0.6666666666666666,\"#ed7953\"],[0.7777777777777778,\"#fb9f3a\"],[0.8888888888888888,\"#fdca26\"],[1.0,\"#f0f921\"]],\"type\":\"histogram2d\"}],\"histogram2dcontour\":[{\"colorbar\":{\"outlinewidth\":0,\"ticks\":\"\"},\"colorscale\":[[0.0,\"#0d0887\"],[0.1111111111111111,\"#46039f\"],[0.2222222222222222,\"#7201a8\"],[0.3333333333333333,\"#9c179e\"],[0.4444444444444444,\"#bd3786\"],[0.5555555555555556,\"#d8576b\"],[0.6666666666666666,\"#ed7953\"],[0.7777777777777778,\"#fb9f3a\"],[0.8888888888888888,\"#fdca26\"],[1.0,\"#f0f921\"]],\"type\":\"histogram2dcontour\"}],\"mesh3d\":[{\"colorbar\":{\"outlinewidth\":0,\"ticks\":\"\"},\"type\":\"mesh3d\"}],\"parcoords\":[{\"line\":{\"colorbar\":{\"outlinewidth\":0,\"ticks\":\"\"}},\"type\":\"parcoords\"}],\"pie\":[{\"automargin\":true,\"type\":\"pie\"}],\"scatter\":[{\"marker\":{\"colorbar\":{\"outlinewidth\":0,\"ticks\":\"\"}},\"type\":\"scatter\"}],\"scatter3d\":[{\"line\":{\"colorbar\":{\"outlinewidth\":0,\"ticks\":\"\"}},\"marker\":{\"colorbar\":{\"outlinewidth\":0,\"ticks\":\"\"}},\"type\":\"scatter3d\"}],\"scattercarpet\":[{\"marker\":{\"colorbar\":{\"outlinewidth\":0,\"ticks\":\"\"}},\"type\":\"scattercarpet\"}],\"scattergeo\":[{\"marker\":{\"colorbar\":{\"outlinewidth\":0,\"ticks\":\"\"}},\"type\":\"scattergeo\"}],\"scattergl\":[{\"marker\":{\"colorbar\":{\"outlinewidth\":0,\"ticks\":\"\"}},\"type\":\"scattergl\"}],\"scattermapbox\":[{\"marker\":{\"colorbar\":{\"outlinewidth\":0,\"ticks\":\"\"}},\"type\":\"scattermapbox\"}],\"scatterpolar\":[{\"marker\":{\"colorbar\":{\"outlinewidth\":0,\"ticks\":\"\"}},\"type\":\"scatterpolar\"}],\"scatterpolargl\":[{\"marker\":{\"colorbar\":{\"outlinewidth\":0,\"ticks\":\"\"}},\"type\":\"scatterpolargl\"}],\"scatterternary\":[{\"marker\":{\"colorbar\":{\"outlinewidth\":0,\"ticks\":\"\"}},\"type\":\"scatterternary\"}],\"surface\":[{\"colorbar\":{\"outlinewidth\":0,\"ticks\":\"\"},\"colorscale\":[[0.0,\"#0d0887\"],[0.1111111111111111,\"#46039f\"],[0.2222222222222222,\"#7201a8\"],[0.3333333333333333,\"#9c179e\"],[0.4444444444444444,\"#bd3786\"],[0.5555555555555556,\"#d8576b\"],[0.6666666666666666,\"#ed7953\"],[0.7777777777777778,\"#fb9f3a\"],[0.8888888888888888,\"#fdca26\"],[1.0,\"#f0f921\"]],\"type\":\"surface\"}],\"table\":[{\"cells\":{\"fill\":{\"color\":\"#EBF0F8\"},\"line\":{\"color\":\"white\"}},\"header\":{\"fill\":{\"color\":\"#C8D4E3\"},\"line\":{\"color\":\"white\"}},\"type\":\"table\"}]},\"layout\":{\"annotationdefaults\":{\"arrowcolor\":\"#2a3f5f\",\"arrowhead\":0,\"arrowwidth\":1},\"autotypenumbers\":\"strict\",\"coloraxis\":{\"colorbar\":{\"outlinewidth\":0,\"ticks\":\"\"}},\"colorscale\":{\"diverging\":[[0,\"#8e0152\"],[0.1,\"#c51b7d\"],[0.2,\"#de77ae\"],[0.3,\"#f1b6da\"],[0.4,\"#fde0ef\"],[0.5,\"#f7f7f7\"],[0.6,\"#e6f5d0\"],[0.7,\"#b8e186\"],[0.8,\"#7fbc41\"],[0.9,\"#4d9221\"],[1,\"#276419\"]],\"sequential\":[[0.0,\"#0d0887\"],[0.1111111111111111,\"#46039f\"],[0.2222222222222222,\"#7201a8\"],[0.3333333333333333,\"#9c179e\"],[0.4444444444444444,\"#bd3786\"],[0.5555555555555556,\"#d8576b\"],[0.6666666666666666,\"#ed7953\"],[0.7777777777777778,\"#fb9f3a\"],[0.8888888888888888,\"#fdca26\"],[1.0,\"#f0f921\"]],\"sequentialminus\":[[0.0,\"#0d0887\"],[0.1111111111111111,\"#46039f\"],[0.2222222222222222,\"#7201a8\"],[0.3333333333333333,\"#9c179e\"],[0.4444444444444444,\"#bd3786\"],[0.5555555555555556,\"#d8576b\"],[0.6666666666666666,\"#ed7953\"],[0.7777777777777778,\"#fb9f3a\"],[0.8888888888888888,\"#fdca26\"],[1.0,\"#f0f921\"]]},\"colorway\":[\"#636efa\",\"#EF553B\",\"#00cc96\",\"#ab63fa\",\"#FFA15A\",\"#19d3f3\",\"#FF6692\",\"#B6E880\",\"#FF97FF\",\"#FECB52\"],\"font\":{\"color\":\"#2a3f5f\"},\"geo\":{\"bgcolor\":\"white\",\"lakecolor\":\"white\",\"landcolor\":\"#E5ECF6\",\"showlakes\":true,\"showland\":true,\"subunitcolor\":\"white\"},\"hoverlabel\":{\"align\":\"left\"},\"hovermode\":\"closest\",\"mapbox\":{\"style\":\"light\"},\"paper_bgcolor\":\"white\",\"plot_bgcolor\":\"#E5ECF6\",\"polar\":{\"angularaxis\":{\"gridcolor\":\"white\",\"linecolor\":\"white\",\"ticks\":\"\"},\"bgcolor\":\"#E5ECF6\",\"radialaxis\":{\"gridcolor\":\"white\",\"linecolor\":\"white\",\"ticks\":\"\"}},\"scene\":{\"xaxis\":{\"backgroundcolor\":\"#E5ECF6\",\"gridcolor\":\"white\",\"gridwidth\":2,\"linecolor\":\"white\",\"showbackground\":true,\"ticks\":\"\",\"zerolinecolor\":\"white\"},\"yaxis\":{\"backgroundcolor\":\"#E5ECF6\",\"gridcolor\":\"white\",\"gridwidth\":2,\"linecolor\":\"white\",\"showbackground\":true,\"ticks\":\"\",\"zerolinecolor\":\"white\"},\"zaxis\":{\"backgroundcolor\":\"#E5ECF6\",\"gridcolor\":\"white\",\"gridwidth\":2,\"linecolor\":\"white\",\"showbackground\":true,\"ticks\":\"\",\"zerolinecolor\":\"white\"}},\"shapedefaults\":{\"line\":{\"color\":\"#2a3f5f\"}},\"ternary\":{\"aaxis\":{\"gridcolor\":\"white\",\"linecolor\":\"white\",\"ticks\":\"\"},\"baxis\":{\"gridcolor\":\"white\",\"linecolor\":\"white\",\"ticks\":\"\"},\"bgcolor\":\"#E5ECF6\",\"caxis\":{\"gridcolor\":\"white\",\"linecolor\":\"white\",\"ticks\":\"\"}},\"title\":{\"x\":0.05},\"xaxis\":{\"automargin\":true,\"gridcolor\":\"white\",\"linecolor\":\"white\",\"ticks\":\"\",\"title\":{\"standoff\":15},\"zerolinecolor\":\"white\",\"zerolinewidth\":2},\"yaxis\":{\"automargin\":true,\"gridcolor\":\"white\",\"linecolor\":\"white\",\"ticks\":\"\",\"title\":{\"standoff\":15},\"zerolinecolor\":\"white\",\"zerolinewidth\":2}}},\"xaxis\":{\"anchor\":\"y\",\"domain\":[0.0,1.0],\"title\":{\"text\":\"CROIS_2016\"}},\"yaxis\":{\"anchor\":\"x\",\"domain\":[0.0,1.0],\"title\":{\"text\":\"TXMORTI_2016\"}},\"legend\":{\"tracegroupgap\":0},\"margin\":{\"t\":60}},                        {\"responsive\": true}                    ).then(function(){\n",
              "                            \n",
              "var gd = document.getElementById('22f8b20c-3abc-4a8f-ab46-dd83bb3662f6');\n",
              "var x = new MutationObserver(function (mutations, observer) {{\n",
              "        var display = window.getComputedStyle(gd).display;\n",
              "        if (!display || display === 'none') {{\n",
              "            console.log([gd, 'removed!']);\n",
              "            Plotly.purge(gd);\n",
              "            observer.disconnect();\n",
              "        }}\n",
              "}});\n",
              "\n",
              "// Listen for the removal of the full notebook cells\n",
              "var notebookContainer = gd.closest('#notebook-container');\n",
              "if (notebookContainer) {{\n",
              "    x.observe(notebookContainer, {childList: true});\n",
              "}}\n",
              "\n",
              "// Listen for the clearing of the current output cell\n",
              "var outputEl = gd.closest('.output');\n",
              "if (outputEl) {{\n",
              "    x.observe(outputEl, {childList: true});\n",
              "}}\n",
              "\n",
              "                        })                };                            </script>        </div>\n",
              "</body>\n",
              "</html>"
            ]
          },
          "metadata": {}
        }
      ]
    }
  ]
}