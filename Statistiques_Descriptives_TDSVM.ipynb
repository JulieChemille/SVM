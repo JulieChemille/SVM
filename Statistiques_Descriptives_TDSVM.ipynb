{
  "nbformat": 4,
  "nbformat_minor": 0,
  "metadata": {
    "colab": {
      "provenance": [],
      "collapsed_sections": [
        "P4Smuz3V7h1x",
        "PUejFpiPLanj",
        "je6Nn8E3OwDc"
      ]
    },
    "kernelspec": {
      "name": "python3",
      "display_name": "Python 3"
    },
    "language_info": {
      "name": "python"
    }
  },
  "cells": [
    {
      "cell_type": "markdown",
      "source": [
        "# **Statistiques descriptives sur une base de données macro**"
      ],
      "metadata": {
        "id": "7KmBPZ8_Ob6Y"
      }
    },
    {
      "cell_type": "markdown",
      "source": [
        "### Préparation de l'environnement et importation de la base\n",
        "\n",
        "---\n",
        "\n"
      ],
      "metadata": {
        "id": "P4Smuz3V7h1x"
      }
    },
    {
      "cell_type": "code",
      "source": [
        "#Chargement des packages\n",
        "import os\n",
        "\n",
        "import pandas as pd\n",
        "import numpy as np\n",
        "import seaborn as sns\n",
        "import matplotlib.pyplot as plt\n",
        "import random"
      ],
      "metadata": {
        "id": "WQKHnqPp7Ggu"
      },
      "execution_count": 156,
      "outputs": []
    },
    {
      "cell_type": "code",
      "execution_count": null,
      "metadata": {
        "id": "KVqjEdLQvBPG"
      },
      "outputs": [],
      "source": [
        "#Chargement de la base de données sur google colab\n",
        "from google.colab import files\n",
        "files.upload() \n"
      ]
    },
    {
      "cell_type": "code",
      "source": [
        "bdd = pd.read_excel('1-Data_all_.xlsx')\n",
        "db = pd.DataFrame(data=bdd)"
      ],
      "metadata": {
        "id": "lri8AvaJ7noz"
      },
      "execution_count": 270,
      "outputs": []
    },
    {
      "cell_type": "markdown",
      "source": [
        "Pour cette analyse des statistiques descriptives nous nous concentrerons sur l'année 2016 (la base de données étant constituée des mêmes variables sur les deux années)."
      ],
      "metadata": {
        "id": "b3J647Tuxvme"
      }
    },
    {
      "cell_type": "code",
      "source": [
        "db = db.iloc[:,:25] #on séléctionne toutes les lignes et toutes les colonnes jusqu'à la dernière variable \"2016\""
      ],
      "metadata": {
        "id": "JPSJWWADwOJl"
      },
      "execution_count": 271,
      "outputs": []
    },
    {
      "cell_type": "code",
      "source": [
        "db.columns #vérification "
      ],
      "metadata": {
        "colab": {
          "base_uri": "https://localhost:8080/"
        },
        "id": "dkLN2rqT7zTS",
        "outputId": "d1b66890-e305-414d-818c-622dceafac5c"
      },
      "execution_count": 272,
      "outputs": [
        {
          "output_type": "execute_result",
          "data": {
            "text/plain": [
              "Index(['Name', 'CROIS_2016', 'ELEC_2016', 'PI_2016', 'VA_2016', 'TTR_2016',\n",
              "       'TXMORTI_2016', 'TXMORT_2016', 'IED_2016', 'EDVN_2016', 'PT_2016',\n",
              "       'INF_2016', 'MASSM_2016', 'TXCH_2016', 'PA_2016', 'TRSM_2016',\n",
              "       'CHO_2016', 'CMARCH_2016', 'X_2016', 'M_2016', 'FBCF_2016', 'TXF_2016',\n",
              "       'TRSPRT_2016', 'ABTE_2016', 'TAGR_2016'],\n",
              "      dtype='object')"
            ]
          },
          "metadata": {},
          "execution_count": 272
        }
      ]
    },
    {
      "cell_type": "code",
      "source": [
        "db.shape"
      ],
      "metadata": {
        "colab": {
          "base_uri": "https://localhost:8080/"
        },
        "id": "bBwJQbds4l73",
        "outputId": "3d9701b4-dfae-439a-f41b-4f76d3ee54eb"
      },
      "execution_count": 160,
      "outputs": [
        {
          "output_type": "execute_result",
          "data": {
            "text/plain": [
              "(241, 25)"
            ]
          },
          "metadata": {},
          "execution_count": 160
        }
      ]
    },
    {
      "cell_type": "markdown",
      "source": [
        "### Petite analyse *exploratoire*\n",
        "\n",
        "---\n",
        "\n"
      ],
      "metadata": {
        "id": "PUejFpiPLanj"
      }
    },
    {
      "cell_type": "code",
      "source": [
        "db.info() #toutes nos variables sont correctement codées"
      ],
      "metadata": {
        "id": "6OOsA0Be5aJ2",
        "colab": {
          "base_uri": "https://localhost:8080/"
        },
        "outputId": "a4d60ebe-a50b-4182-891a-025b90f75ac3"
      },
      "execution_count": 273,
      "outputs": [
        {
          "output_type": "stream",
          "name": "stdout",
          "text": [
            "<class 'pandas.core.frame.DataFrame'>\n",
            "RangeIndex: 241 entries, 0 to 240\n",
            "Data columns (total 25 columns):\n",
            " #   Column        Non-Null Count  Dtype  \n",
            "---  ------        --------------  -----  \n",
            " 0   Name          241 non-null    object \n",
            " 1   CROIS_2016    230 non-null    float64\n",
            " 2   ELEC_2016     239 non-null    float64\n",
            " 3   PI_2016       181 non-null    float64\n",
            " 4   VA_2016       217 non-null    float64\n",
            " 5   TTR_2016      165 non-null    float64\n",
            " 6   TXMORTI_2016  218 non-null    float64\n",
            " 7   TXMORT_2016   229 non-null    float64\n",
            " 8   IED_2016      223 non-null    float64\n",
            " 9   EDVN_2016     224 non-null    float64\n",
            " 10  PT_2016       240 non-null    float64\n",
            " 11  INF_2016      231 non-null    float64\n",
            " 12  MASSM_2016    181 non-null    float64\n",
            " 13  TXCH_2016     196 non-null    float64\n",
            " 14  PA_2016       211 non-null    float64\n",
            " 15  TRSM_2016     188 non-null    float64\n",
            " 16  CHO_2016      211 non-null    float64\n",
            " 17  CMARCH_2016   225 non-null    float64\n",
            " 18  X_2016        211 non-null    float64\n",
            " 19  M_2016        211 non-null    float64\n",
            " 20  FBCF_2016     195 non-null    float64\n",
            " 21  TXF_2016      223 non-null    float64\n",
            " 22  TRSPRT_2016   179 non-null    float64\n",
            " 23  ABTE_2016     224 non-null    float64\n",
            " 24  TAGR_2016     233 non-null    float64\n",
            "dtypes: float64(24), object(1)\n",
            "memory usage: 47.2+ KB\n"
          ]
        }
      ]
    },
    {
      "cell_type": "code",
      "source": [
        "#round(db.describe(),2)"
      ],
      "metadata": {
        "colab": {
          "base_uri": "https://localhost:8080/",
          "height": 312
        },
        "id": "9EHnwE_Fu9Fk",
        "outputId": "54d63b87-742a-4afa-9fea-eb40258b6561"
      },
      "execution_count": 274,
      "outputs": [
        {
          "output_type": "execute_result",
          "data": {
            "text/plain": [
              "       CROIS_2016  ELEC_2016       PI_2016       VA_2016      TTR_2016  \\\n",
              "count      230.00     239.00  1.810000e+02  2.170000e+02  1.650000e+02   \n",
              "mean         3.19      84.63  1.106144e+10  3.101873e+06  6.467742e+10   \n",
              "std          3.36      25.11  5.051869e+10  4.569327e+07  2.713801e+11   \n",
              "min         -8.82       2.18  0.000000e+00  4.300000e-01  1.080000e+00   \n",
              "25%          1.67      78.99  4.747852e+05  7.640000e+00  7.936540e+08   \n",
              "50%          3.18      99.40  1.638314e+07  1.138000e+01  4.886385e+09   \n",
              "75%          4.69     100.00  5.642275e+08  1.568000e+01  3.188735e+10   \n",
              "max         29.21     100.00  3.329793e+11  6.731039e+08  3.097658e+12   \n",
              "\n",
              "       TXMORTI_2016  TXMORT_2016      IED_2016     EDVN_2016       PT_2016  \\\n",
              "count  2.180000e+02       229.00  2.230000e+02  2.240000e+02  2.400000e+02   \n",
              "mean   1.771988e+09         7.69  8.049165e+10  5.949071e+08  2.836324e+08   \n",
              "std    2.616309e+10         2.52  3.178524e+11  8.903754e+09  9.612549e+08   \n",
              "min    2.100000e+00         1.15 -2.893934e+10  5.159000e+01  8.423000e+01   \n",
              "25%    7.780000e+00         6.10  1.621336e+08  6.783000e+01  1.218262e+06   \n",
              "50%    1.848000e+01         7.39  1.246900e+09  7.352000e+01  9.003731e+06   \n",
              "75%    4.703000e+01         9.03  1.553764e+10  7.752000e+01  4.131114e+07   \n",
              "max    3.862935e+11        15.16  2.733835e+12  1.332592e+11  7.433651e+09   \n",
              "\n",
              "       ...     TRSM_2016      CHO_2016  CMARCH_2016  X_2016  M_2016  \\\n",
              "count  ...  1.880000e+02  2.110000e+02       225.00  211.00  211.00   \n",
              "mean   ...  3.764767e+10  1.793270e+08        56.69   39.82   44.99   \n",
              "std    ...  1.643469e+11  2.604875e+09        31.20   34.34   26.97   \n",
              "min    ...  1.600000e+06  1.500000e-01         3.39    0.71    0.74   \n",
              "25%    ...  4.385000e+08  4.310000e+00        37.79   21.23   26.50   \n",
              "50%    ...  1.867500e+09  6.010000e+00        48.29   31.26   39.02   \n",
              "75%    ...  9.977469e+09  9.920000e+00        68.30   47.56   55.13   \n",
              "max    ...  1.541143e+12  3.783800e+10       192.52  331.35  187.01   \n",
              "\n",
              "       FBCF_2016  TXF_2016  TRSPRT_2016  ABTE_2016    TAGR_2016  \n",
              "count     195.00    223.00       179.00     224.00       233.00  \n",
              "mean       24.45      2.79   1439106.49    1157.83   1811498.23  \n",
              "std        13.67      1.77   4387159.09   15733.33   5657930.55  \n",
              "min         7.75      1.20         1.20      24.92         3.00  \n",
              "25%        19.30      1.75     12060.00      84.41      4348.00  \n",
              "50%        22.74      2.29     55261.00     110.01     48754.00  \n",
              "75%        26.70      3.58    514206.00     126.83    410097.10  \n",
              "max       184.72     21.49  34687965.00  235581.00  47232387.38  \n",
              "\n",
              "[8 rows x 24 columns]"
            ],
            "text/html": [
              "\n",
              "  <div id=\"df-2951b2ee-5aa4-4cb4-b798-40dbc1d05a86\">\n",
              "    <div class=\"colab-df-container\">\n",
              "      <div>\n",
              "<style scoped>\n",
              "    .dataframe tbody tr th:only-of-type {\n",
              "        vertical-align: middle;\n",
              "    }\n",
              "\n",
              "    .dataframe tbody tr th {\n",
              "        vertical-align: top;\n",
              "    }\n",
              "\n",
              "    .dataframe thead th {\n",
              "        text-align: right;\n",
              "    }\n",
              "</style>\n",
              "<table border=\"1\" class=\"dataframe\">\n",
              "  <thead>\n",
              "    <tr style=\"text-align: right;\">\n",
              "      <th></th>\n",
              "      <th>CROIS_2016</th>\n",
              "      <th>ELEC_2016</th>\n",
              "      <th>PI_2016</th>\n",
              "      <th>VA_2016</th>\n",
              "      <th>TTR_2016</th>\n",
              "      <th>TXMORTI_2016</th>\n",
              "      <th>TXMORT_2016</th>\n",
              "      <th>IED_2016</th>\n",
              "      <th>EDVN_2016</th>\n",
              "      <th>PT_2016</th>\n",
              "      <th>...</th>\n",
              "      <th>TRSM_2016</th>\n",
              "      <th>CHO_2016</th>\n",
              "      <th>CMARCH_2016</th>\n",
              "      <th>X_2016</th>\n",
              "      <th>M_2016</th>\n",
              "      <th>FBCF_2016</th>\n",
              "      <th>TXF_2016</th>\n",
              "      <th>TRSPRT_2016</th>\n",
              "      <th>ABTE_2016</th>\n",
              "      <th>TAGR_2016</th>\n",
              "    </tr>\n",
              "  </thead>\n",
              "  <tbody>\n",
              "    <tr>\n",
              "      <th>count</th>\n",
              "      <td>230.00</td>\n",
              "      <td>239.00</td>\n",
              "      <td>1.810000e+02</td>\n",
              "      <td>2.170000e+02</td>\n",
              "      <td>1.650000e+02</td>\n",
              "      <td>2.180000e+02</td>\n",
              "      <td>229.00</td>\n",
              "      <td>2.230000e+02</td>\n",
              "      <td>2.240000e+02</td>\n",
              "      <td>2.400000e+02</td>\n",
              "      <td>...</td>\n",
              "      <td>1.880000e+02</td>\n",
              "      <td>2.110000e+02</td>\n",
              "      <td>225.00</td>\n",
              "      <td>211.00</td>\n",
              "      <td>211.00</td>\n",
              "      <td>195.00</td>\n",
              "      <td>223.00</td>\n",
              "      <td>179.00</td>\n",
              "      <td>224.00</td>\n",
              "      <td>233.00</td>\n",
              "    </tr>\n",
              "    <tr>\n",
              "      <th>mean</th>\n",
              "      <td>3.19</td>\n",
              "      <td>84.63</td>\n",
              "      <td>1.106144e+10</td>\n",
              "      <td>3.101873e+06</td>\n",
              "      <td>6.467742e+10</td>\n",
              "      <td>1.771988e+09</td>\n",
              "      <td>7.69</td>\n",
              "      <td>8.049165e+10</td>\n",
              "      <td>5.949071e+08</td>\n",
              "      <td>2.836324e+08</td>\n",
              "      <td>...</td>\n",
              "      <td>3.764767e+10</td>\n",
              "      <td>1.793270e+08</td>\n",
              "      <td>56.69</td>\n",
              "      <td>39.82</td>\n",
              "      <td>44.99</td>\n",
              "      <td>24.45</td>\n",
              "      <td>2.79</td>\n",
              "      <td>1439106.49</td>\n",
              "      <td>1157.83</td>\n",
              "      <td>1811498.23</td>\n",
              "    </tr>\n",
              "    <tr>\n",
              "      <th>std</th>\n",
              "      <td>3.36</td>\n",
              "      <td>25.11</td>\n",
              "      <td>5.051869e+10</td>\n",
              "      <td>4.569327e+07</td>\n",
              "      <td>2.713801e+11</td>\n",
              "      <td>2.616309e+10</td>\n",
              "      <td>2.52</td>\n",
              "      <td>3.178524e+11</td>\n",
              "      <td>8.903754e+09</td>\n",
              "      <td>9.612549e+08</td>\n",
              "      <td>...</td>\n",
              "      <td>1.643469e+11</td>\n",
              "      <td>2.604875e+09</td>\n",
              "      <td>31.20</td>\n",
              "      <td>34.34</td>\n",
              "      <td>26.97</td>\n",
              "      <td>13.67</td>\n",
              "      <td>1.77</td>\n",
              "      <td>4387159.09</td>\n",
              "      <td>15733.33</td>\n",
              "      <td>5657930.55</td>\n",
              "    </tr>\n",
              "    <tr>\n",
              "      <th>min</th>\n",
              "      <td>-8.82</td>\n",
              "      <td>2.18</td>\n",
              "      <td>0.000000e+00</td>\n",
              "      <td>4.300000e-01</td>\n",
              "      <td>1.080000e+00</td>\n",
              "      <td>2.100000e+00</td>\n",
              "      <td>1.15</td>\n",
              "      <td>-2.893934e+10</td>\n",
              "      <td>5.159000e+01</td>\n",
              "      <td>8.423000e+01</td>\n",
              "      <td>...</td>\n",
              "      <td>1.600000e+06</td>\n",
              "      <td>1.500000e-01</td>\n",
              "      <td>3.39</td>\n",
              "      <td>0.71</td>\n",
              "      <td>0.74</td>\n",
              "      <td>7.75</td>\n",
              "      <td>1.20</td>\n",
              "      <td>1.20</td>\n",
              "      <td>24.92</td>\n",
              "      <td>3.00</td>\n",
              "    </tr>\n",
              "    <tr>\n",
              "      <th>25%</th>\n",
              "      <td>1.67</td>\n",
              "      <td>78.99</td>\n",
              "      <td>4.747852e+05</td>\n",
              "      <td>7.640000e+00</td>\n",
              "      <td>7.936540e+08</td>\n",
              "      <td>7.780000e+00</td>\n",
              "      <td>6.10</td>\n",
              "      <td>1.621336e+08</td>\n",
              "      <td>6.783000e+01</td>\n",
              "      <td>1.218262e+06</td>\n",
              "      <td>...</td>\n",
              "      <td>4.385000e+08</td>\n",
              "      <td>4.310000e+00</td>\n",
              "      <td>37.79</td>\n",
              "      <td>21.23</td>\n",
              "      <td>26.50</td>\n",
              "      <td>19.30</td>\n",
              "      <td>1.75</td>\n",
              "      <td>12060.00</td>\n",
              "      <td>84.41</td>\n",
              "      <td>4348.00</td>\n",
              "    </tr>\n",
              "    <tr>\n",
              "      <th>50%</th>\n",
              "      <td>3.18</td>\n",
              "      <td>99.40</td>\n",
              "      <td>1.638314e+07</td>\n",
              "      <td>1.138000e+01</td>\n",
              "      <td>4.886385e+09</td>\n",
              "      <td>1.848000e+01</td>\n",
              "      <td>7.39</td>\n",
              "      <td>1.246900e+09</td>\n",
              "      <td>7.352000e+01</td>\n",
              "      <td>9.003731e+06</td>\n",
              "      <td>...</td>\n",
              "      <td>1.867500e+09</td>\n",
              "      <td>6.010000e+00</td>\n",
              "      <td>48.29</td>\n",
              "      <td>31.26</td>\n",
              "      <td>39.02</td>\n",
              "      <td>22.74</td>\n",
              "      <td>2.29</td>\n",
              "      <td>55261.00</td>\n",
              "      <td>110.01</td>\n",
              "      <td>48754.00</td>\n",
              "    </tr>\n",
              "    <tr>\n",
              "      <th>75%</th>\n",
              "      <td>4.69</td>\n",
              "      <td>100.00</td>\n",
              "      <td>5.642275e+08</td>\n",
              "      <td>1.568000e+01</td>\n",
              "      <td>3.188735e+10</td>\n",
              "      <td>4.703000e+01</td>\n",
              "      <td>9.03</td>\n",
              "      <td>1.553764e+10</td>\n",
              "      <td>7.752000e+01</td>\n",
              "      <td>4.131114e+07</td>\n",
              "      <td>...</td>\n",
              "      <td>9.977469e+09</td>\n",
              "      <td>9.920000e+00</td>\n",
              "      <td>68.30</td>\n",
              "      <td>47.56</td>\n",
              "      <td>55.13</td>\n",
              "      <td>26.70</td>\n",
              "      <td>3.58</td>\n",
              "      <td>514206.00</td>\n",
              "      <td>126.83</td>\n",
              "      <td>410097.10</td>\n",
              "    </tr>\n",
              "    <tr>\n",
              "      <th>max</th>\n",
              "      <td>29.21</td>\n",
              "      <td>100.00</td>\n",
              "      <td>3.329793e+11</td>\n",
              "      <td>6.731039e+08</td>\n",
              "      <td>3.097658e+12</td>\n",
              "      <td>3.862935e+11</td>\n",
              "      <td>15.16</td>\n",
              "      <td>2.733835e+12</td>\n",
              "      <td>1.332592e+11</td>\n",
              "      <td>7.433651e+09</td>\n",
              "      <td>...</td>\n",
              "      <td>1.541143e+12</td>\n",
              "      <td>3.783800e+10</td>\n",
              "      <td>192.52</td>\n",
              "      <td>331.35</td>\n",
              "      <td>187.01</td>\n",
              "      <td>184.72</td>\n",
              "      <td>21.49</td>\n",
              "      <td>34687965.00</td>\n",
              "      <td>235581.00</td>\n",
              "      <td>47232387.38</td>\n",
              "    </tr>\n",
              "  </tbody>\n",
              "</table>\n",
              "<p>8 rows × 24 columns</p>\n",
              "</div>\n",
              "      <button class=\"colab-df-convert\" onclick=\"convertToInteractive('df-2951b2ee-5aa4-4cb4-b798-40dbc1d05a86')\"\n",
              "              title=\"Convert this dataframe to an interactive table.\"\n",
              "              style=\"display:none;\">\n",
              "        \n",
              "  <svg xmlns=\"http://www.w3.org/2000/svg\" height=\"24px\"viewBox=\"0 0 24 24\"\n",
              "       width=\"24px\">\n",
              "    <path d=\"M0 0h24v24H0V0z\" fill=\"none\"/>\n",
              "    <path d=\"M18.56 5.44l.94 2.06.94-2.06 2.06-.94-2.06-.94-.94-2.06-.94 2.06-2.06.94zm-11 1L8.5 8.5l.94-2.06 2.06-.94-2.06-.94L8.5 2.5l-.94 2.06-2.06.94zm10 10l.94 2.06.94-2.06 2.06-.94-2.06-.94-.94-2.06-.94 2.06-2.06.94z\"/><path d=\"M17.41 7.96l-1.37-1.37c-.4-.4-.92-.59-1.43-.59-.52 0-1.04.2-1.43.59L10.3 9.45l-7.72 7.72c-.78.78-.78 2.05 0 2.83L4 21.41c.39.39.9.59 1.41.59.51 0 1.02-.2 1.41-.59l7.78-7.78 2.81-2.81c.8-.78.8-2.07 0-2.86zM5.41 20L4 18.59l7.72-7.72 1.47 1.35L5.41 20z\"/>\n",
              "  </svg>\n",
              "      </button>\n",
              "      \n",
              "  <style>\n",
              "    .colab-df-container {\n",
              "      display:flex;\n",
              "      flex-wrap:wrap;\n",
              "      gap: 12px;\n",
              "    }\n",
              "\n",
              "    .colab-df-convert {\n",
              "      background-color: #E8F0FE;\n",
              "      border: none;\n",
              "      border-radius: 50%;\n",
              "      cursor: pointer;\n",
              "      display: none;\n",
              "      fill: #1967D2;\n",
              "      height: 32px;\n",
              "      padding: 0 0 0 0;\n",
              "      width: 32px;\n",
              "    }\n",
              "\n",
              "    .colab-df-convert:hover {\n",
              "      background-color: #E2EBFA;\n",
              "      box-shadow: 0px 1px 2px rgba(60, 64, 67, 0.3), 0px 1px 3px 1px rgba(60, 64, 67, 0.15);\n",
              "      fill: #174EA6;\n",
              "    }\n",
              "\n",
              "    [theme=dark] .colab-df-convert {\n",
              "      background-color: #3B4455;\n",
              "      fill: #D2E3FC;\n",
              "    }\n",
              "\n",
              "    [theme=dark] .colab-df-convert:hover {\n",
              "      background-color: #434B5C;\n",
              "      box-shadow: 0px 1px 3px 1px rgba(0, 0, 0, 0.15);\n",
              "      filter: drop-shadow(0px 1px 2px rgba(0, 0, 0, 0.3));\n",
              "      fill: #FFFFFF;\n",
              "    }\n",
              "  </style>\n",
              "\n",
              "      <script>\n",
              "        const buttonEl =\n",
              "          document.querySelector('#df-2951b2ee-5aa4-4cb4-b798-40dbc1d05a86 button.colab-df-convert');\n",
              "        buttonEl.style.display =\n",
              "          google.colab.kernel.accessAllowed ? 'block' : 'none';\n",
              "\n",
              "        async function convertToInteractive(key) {\n",
              "          const element = document.querySelector('#df-2951b2ee-5aa4-4cb4-b798-40dbc1d05a86');\n",
              "          const dataTable =\n",
              "            await google.colab.kernel.invokeFunction('convertToInteractive',\n",
              "                                                     [key], {});\n",
              "          if (!dataTable) return;\n",
              "\n",
              "          const docLinkHtml = 'Like what you see? Visit the ' +\n",
              "            '<a target=\"_blank\" href=https://colab.research.google.com/notebooks/data_table.ipynb>data table notebook</a>'\n",
              "            + ' to learn more about interactive tables.';\n",
              "          element.innerHTML = '';\n",
              "          dataTable['output_type'] = 'display_data';\n",
              "          await google.colab.output.renderOutput(dataTable, element);\n",
              "          const docLink = document.createElement('div');\n",
              "          docLink.innerHTML = docLinkHtml;\n",
              "          element.appendChild(docLink);\n",
              "        }\n",
              "      </script>\n",
              "    </div>\n",
              "  </div>\n",
              "  "
            ]
          },
          "metadata": {},
          "execution_count": 274
        },
        {
          "output_type": "stream",
          "name": "stdout",
          "text": [
            "Warning: Total number of columns (24) exceeds max_columns (20) limiting to first (20) columns.\n"
          ]
        }
      ]
    },
    {
      "cell_type": "code",
      "source": [
        "db.isna().sum()"
      ],
      "metadata": {
        "colab": {
          "base_uri": "https://localhost:8080/"
        },
        "id": "rKyJOpmK040P",
        "outputId": "700c5d58-9702-4acc-fa1f-beed92819169"
      },
      "execution_count": 161,
      "outputs": [
        {
          "output_type": "execute_result",
          "data": {
            "text/plain": [
              "Name             0\n",
              "CROIS_2016      11\n",
              "ELEC_2016        2\n",
              "PI_2016         60\n",
              "VA_2016         24\n",
              "TTR_2016        76\n",
              "TXMORTI_2016    23\n",
              "TXMORT_2016     12\n",
              "IED_2016        18\n",
              "EDVN_2016       17\n",
              "PT_2016          1\n",
              "INF_2016        10\n",
              "MASSM_2016      60\n",
              "TXCH_2016       45\n",
              "PA_2016         30\n",
              "TRSM_2016       53\n",
              "CHO_2016        30\n",
              "CMARCH_2016     16\n",
              "X_2016          30\n",
              "M_2016          30\n",
              "FBCF_2016       46\n",
              "TXF_2016        18\n",
              "TRSPRT_2016     62\n",
              "ABTE_2016       17\n",
              "TAGR_2016        8\n",
              "dtype: int64"
            ]
          },
          "metadata": {},
          "execution_count": 161
        }
      ]
    },
    {
      "cell_type": "code",
      "source": [
        "na_list = db.isna().sum()\n",
        "sum(na_list >= 30)\n",
        "\n",
        "#j'aimerais supprimer les variables avec trop de NA : \n",
        "\n",
        "#for i in db.columns:\n",
        "  #if na_list.values >= 30:\n",
        "    #print(db[:,i])\n",
        "\n",
        "#Echec, je fais sans."
      ],
      "metadata": {
        "colab": {
          "base_uri": "https://localhost:8080/"
        },
        "id": "JooRZm32m1wC",
        "outputId": "1be0b93d-3161-41fd-f172-34462d1a0d75"
      },
      "execution_count": 162,
      "outputs": [
        {
          "output_type": "execute_result",
          "data": {
            "text/plain": [
              "11"
            ]
          },
          "metadata": {},
          "execution_count": 162
        }
      ]
    },
    {
      "cell_type": "code",
      "source": [
        "db.dropna(inplace=True)"
      ],
      "metadata": {
        "id": "iv9zhzPt08-b"
      },
      "execution_count": 275,
      "outputs": []
    },
    {
      "cell_type": "code",
      "source": [
        "#db.isna().sum()"
      ],
      "metadata": {
        "colab": {
          "base_uri": "https://localhost:8080/"
        },
        "id": "Q10ghjj11RLI",
        "outputId": "2348bdcb-02c3-4318-83b0-36906be91501"
      },
      "execution_count": null,
      "outputs": [
        {
          "output_type": "execute_result",
          "data": {
            "text/plain": [
              "Name            0\n",
              "CROIS_2016      0\n",
              "ELEC_2016       0\n",
              "PI_2016         0\n",
              "VA_2016         0\n",
              "TTR_2016        0\n",
              "TXMORTI_2016    0\n",
              "TXMORT_2016     0\n",
              "IED_2016        0\n",
              "EDVN_2016       0\n",
              "PT_2016         0\n",
              "INF_2016        0\n",
              "MASSM_2016      0\n",
              "TXCH_2016       0\n",
              "PA_2016         0\n",
              "TRSM_2016       0\n",
              "CHO_2016        0\n",
              "CMARCH_2016     0\n",
              "X_2016          0\n",
              "M_2016          0\n",
              "FBCF_2016       0\n",
              "TXF_2016        0\n",
              "TRSPRT_2016     0\n",
              "ABTE_2016       0\n",
              "TAGR_2016       0\n",
              "dtype: int64"
            ]
          },
          "metadata": {},
          "execution_count": 78
        }
      ]
    },
    {
      "cell_type": "code",
      "source": [
        "db.shape #grosse reduction de la base en terme d'individus"
      ],
      "metadata": {
        "colab": {
          "base_uri": "https://localhost:8080/"
        },
        "id": "UFXR16Ea4q8l",
        "outputId": "60503cff-009e-4814-c66b-f41d241eb3be"
      },
      "execution_count": 276,
      "outputs": [
        {
          "output_type": "execute_result",
          "data": {
            "text/plain": [
              "(69, 25)"
            ]
          },
          "metadata": {},
          "execution_count": 276
        }
      ]
    },
    {
      "cell_type": "code",
      "source": [
        "#round(db.describe(),2) #Gros changements dans les stats descs"
      ],
      "metadata": {
        "id": "Uy4OgfVj50k7",
        "colab": {
          "base_uri": "https://localhost:8080/",
          "height": 394
        },
        "outputId": "bd96f675-5fce-4bcc-f563-ba9e31e28f9a"
      },
      "execution_count": 277,
      "outputs": [
        {
          "output_type": "execute_result",
          "data": {
            "text/plain": [
              "       CROIS_2016  ELEC_2016       PI_2016  VA_2016      TTR_2016  \\\n",
              "count       69.00      69.00  6.900000e+01    69.00  6.900000e+01   \n",
              "mean         3.11      86.95  2.795932e+09    13.18  8.004136e+10   \n",
              "std          2.77      22.39  1.459371e+10     5.08  1.837833e+11   \n",
              "min         -3.28      22.90  0.000000e+00     2.51  2.673460e+08   \n",
              "25%          1.67      89.22  9.060878e+05     9.71  3.487053e+09   \n",
              "50%          3.32      99.50  1.099763e+07    12.48  1.553726e+10   \n",
              "75%          4.46     100.00  7.300000e+07    16.60  5.390551e+10   \n",
              "max         10.51     100.00  1.129810e+11    27.14  1.216519e+12   \n",
              "\n",
              "       TXMORTI_2016  TXMORT_2016      IED_2016  EDVN_2016       PT_2016  ...  \\\n",
              "count         69.00        69.00  6.900000e+01      69.00  6.900000e+01  ...   \n",
              "mean          24.78         7.51  1.792531e+10      72.66  6.239174e+07  ...   \n",
              "std           23.82         2.75  6.126718e+10       6.34  1.675458e+08  ...   \n",
              "min            2.70         3.83 -4.156405e+09      53.54  2.783260e+05  ...   \n",
              "25%            8.50         5.45  5.408428e+08      69.32  6.079500e+06  ...   \n",
              "50%           15.70         6.61  2.215307e+09      73.54  1.779406e+07  ...   \n",
              "75%           31.90         8.49  8.279548e+09      76.36  4.817505e+07  ...   \n",
              "max          124.70        14.70  4.743880e+11      83.98  1.324517e+09  ...   \n",
              "\n",
              "          TRSM_2016  CHO_2016  CMARCH_2016  X_2016  M_2016  FBCF_2016  \\\n",
              "count  6.900000e+01     69.00        69.00   69.00   69.00      69.00   \n",
              "mean   9.650333e+09      7.16        57.61   34.25   39.45      23.51   \n",
              "std    2.840941e+10      5.41        32.33   22.88   20.99       6.70   \n",
              "min    1.140000e+08      0.69        17.01    8.74   11.50      13.87   \n",
              "25%    8.270000e+08      3.74        33.14   19.27   21.69      19.46   \n",
              "50%    2.149000e+09      5.42        48.19   29.09   35.10      22.59   \n",
              "75%    7.481000e+09      8.69        74.00   42.71   53.74      25.44   \n",
              "max    2.285490e+11     26.54       192.52  164.77  138.56      56.62   \n",
              "\n",
              "       TXF_2016  TRSPRT_2016  ABTE_2016   TAGR_2016  \n",
              "count     69.00        69.00      69.00       69.00  \n",
              "mean       2.53    295018.00     111.41   429188.54  \n",
              "std        1.08   1169106.08      30.82   780522.82  \n",
              "min        1.20       306.00      32.13        6.60  \n",
              "25%        1.76     13614.00      86.08    23179.00  \n",
              "50%        2.24     46733.00     116.00   125560.00  \n",
              "75%        2.94    149334.00     130.92   408950.00  \n",
              "max        5.69   9640591.00     173.51  4052646.00  \n",
              "\n",
              "[8 rows x 24 columns]"
            ],
            "text/html": [
              "\n",
              "  <div id=\"df-5fd2de29-996d-4a07-97d7-42e6fc526fc3\">\n",
              "    <div class=\"colab-df-container\">\n",
              "      <div>\n",
              "<style scoped>\n",
              "    .dataframe tbody tr th:only-of-type {\n",
              "        vertical-align: middle;\n",
              "    }\n",
              "\n",
              "    .dataframe tbody tr th {\n",
              "        vertical-align: top;\n",
              "    }\n",
              "\n",
              "    .dataframe thead th {\n",
              "        text-align: right;\n",
              "    }\n",
              "</style>\n",
              "<table border=\"1\" class=\"dataframe\">\n",
              "  <thead>\n",
              "    <tr style=\"text-align: right;\">\n",
              "      <th></th>\n",
              "      <th>CROIS_2016</th>\n",
              "      <th>ELEC_2016</th>\n",
              "      <th>PI_2016</th>\n",
              "      <th>VA_2016</th>\n",
              "      <th>TTR_2016</th>\n",
              "      <th>TXMORTI_2016</th>\n",
              "      <th>TXMORT_2016</th>\n",
              "      <th>IED_2016</th>\n",
              "      <th>EDVN_2016</th>\n",
              "      <th>PT_2016</th>\n",
              "      <th>...</th>\n",
              "      <th>TRSM_2016</th>\n",
              "      <th>CHO_2016</th>\n",
              "      <th>CMARCH_2016</th>\n",
              "      <th>X_2016</th>\n",
              "      <th>M_2016</th>\n",
              "      <th>FBCF_2016</th>\n",
              "      <th>TXF_2016</th>\n",
              "      <th>TRSPRT_2016</th>\n",
              "      <th>ABTE_2016</th>\n",
              "      <th>TAGR_2016</th>\n",
              "    </tr>\n",
              "  </thead>\n",
              "  <tbody>\n",
              "    <tr>\n",
              "      <th>count</th>\n",
              "      <td>69.00</td>\n",
              "      <td>69.00</td>\n",
              "      <td>6.900000e+01</td>\n",
              "      <td>69.00</td>\n",
              "      <td>6.900000e+01</td>\n",
              "      <td>69.00</td>\n",
              "      <td>69.00</td>\n",
              "      <td>6.900000e+01</td>\n",
              "      <td>69.00</td>\n",
              "      <td>6.900000e+01</td>\n",
              "      <td>...</td>\n",
              "      <td>6.900000e+01</td>\n",
              "      <td>69.00</td>\n",
              "      <td>69.00</td>\n",
              "      <td>69.00</td>\n",
              "      <td>69.00</td>\n",
              "      <td>69.00</td>\n",
              "      <td>69.00</td>\n",
              "      <td>69.00</td>\n",
              "      <td>69.00</td>\n",
              "      <td>69.00</td>\n",
              "    </tr>\n",
              "    <tr>\n",
              "      <th>mean</th>\n",
              "      <td>3.11</td>\n",
              "      <td>86.95</td>\n",
              "      <td>2.795932e+09</td>\n",
              "      <td>13.18</td>\n",
              "      <td>8.004136e+10</td>\n",
              "      <td>24.78</td>\n",
              "      <td>7.51</td>\n",
              "      <td>1.792531e+10</td>\n",
              "      <td>72.66</td>\n",
              "      <td>6.239174e+07</td>\n",
              "      <td>...</td>\n",
              "      <td>9.650333e+09</td>\n",
              "      <td>7.16</td>\n",
              "      <td>57.61</td>\n",
              "      <td>34.25</td>\n",
              "      <td>39.45</td>\n",
              "      <td>23.51</td>\n",
              "      <td>2.53</td>\n",
              "      <td>295018.00</td>\n",
              "      <td>111.41</td>\n",
              "      <td>429188.54</td>\n",
              "    </tr>\n",
              "    <tr>\n",
              "      <th>std</th>\n",
              "      <td>2.77</td>\n",
              "      <td>22.39</td>\n",
              "      <td>1.459371e+10</td>\n",
              "      <td>5.08</td>\n",
              "      <td>1.837833e+11</td>\n",
              "      <td>23.82</td>\n",
              "      <td>2.75</td>\n",
              "      <td>6.126718e+10</td>\n",
              "      <td>6.34</td>\n",
              "      <td>1.675458e+08</td>\n",
              "      <td>...</td>\n",
              "      <td>2.840941e+10</td>\n",
              "      <td>5.41</td>\n",
              "      <td>32.33</td>\n",
              "      <td>22.88</td>\n",
              "      <td>20.99</td>\n",
              "      <td>6.70</td>\n",
              "      <td>1.08</td>\n",
              "      <td>1169106.08</td>\n",
              "      <td>30.82</td>\n",
              "      <td>780522.82</td>\n",
              "    </tr>\n",
              "    <tr>\n",
              "      <th>min</th>\n",
              "      <td>-3.28</td>\n",
              "      <td>22.90</td>\n",
              "      <td>0.000000e+00</td>\n",
              "      <td>2.51</td>\n",
              "      <td>2.673460e+08</td>\n",
              "      <td>2.70</td>\n",
              "      <td>3.83</td>\n",
              "      <td>-4.156405e+09</td>\n",
              "      <td>53.54</td>\n",
              "      <td>2.783260e+05</td>\n",
              "      <td>...</td>\n",
              "      <td>1.140000e+08</td>\n",
              "      <td>0.69</td>\n",
              "      <td>17.01</td>\n",
              "      <td>8.74</td>\n",
              "      <td>11.50</td>\n",
              "      <td>13.87</td>\n",
              "      <td>1.20</td>\n",
              "      <td>306.00</td>\n",
              "      <td>32.13</td>\n",
              "      <td>6.60</td>\n",
              "    </tr>\n",
              "    <tr>\n",
              "      <th>25%</th>\n",
              "      <td>1.67</td>\n",
              "      <td>89.22</td>\n",
              "      <td>9.060878e+05</td>\n",
              "      <td>9.71</td>\n",
              "      <td>3.487053e+09</td>\n",
              "      <td>8.50</td>\n",
              "      <td>5.45</td>\n",
              "      <td>5.408428e+08</td>\n",
              "      <td>69.32</td>\n",
              "      <td>6.079500e+06</td>\n",
              "      <td>...</td>\n",
              "      <td>8.270000e+08</td>\n",
              "      <td>3.74</td>\n",
              "      <td>33.14</td>\n",
              "      <td>19.27</td>\n",
              "      <td>21.69</td>\n",
              "      <td>19.46</td>\n",
              "      <td>1.76</td>\n",
              "      <td>13614.00</td>\n",
              "      <td>86.08</td>\n",
              "      <td>23179.00</td>\n",
              "    </tr>\n",
              "    <tr>\n",
              "      <th>50%</th>\n",
              "      <td>3.32</td>\n",
              "      <td>99.50</td>\n",
              "      <td>1.099763e+07</td>\n",
              "      <td>12.48</td>\n",
              "      <td>1.553726e+10</td>\n",
              "      <td>15.70</td>\n",
              "      <td>6.61</td>\n",
              "      <td>2.215307e+09</td>\n",
              "      <td>73.54</td>\n",
              "      <td>1.779406e+07</td>\n",
              "      <td>...</td>\n",
              "      <td>2.149000e+09</td>\n",
              "      <td>5.42</td>\n",
              "      <td>48.19</td>\n",
              "      <td>29.09</td>\n",
              "      <td>35.10</td>\n",
              "      <td>22.59</td>\n",
              "      <td>2.24</td>\n",
              "      <td>46733.00</td>\n",
              "      <td>116.00</td>\n",
              "      <td>125560.00</td>\n",
              "    </tr>\n",
              "    <tr>\n",
              "      <th>75%</th>\n",
              "      <td>4.46</td>\n",
              "      <td>100.00</td>\n",
              "      <td>7.300000e+07</td>\n",
              "      <td>16.60</td>\n",
              "      <td>5.390551e+10</td>\n",
              "      <td>31.90</td>\n",
              "      <td>8.49</td>\n",
              "      <td>8.279548e+09</td>\n",
              "      <td>76.36</td>\n",
              "      <td>4.817505e+07</td>\n",
              "      <td>...</td>\n",
              "      <td>7.481000e+09</td>\n",
              "      <td>8.69</td>\n",
              "      <td>74.00</td>\n",
              "      <td>42.71</td>\n",
              "      <td>53.74</td>\n",
              "      <td>25.44</td>\n",
              "      <td>2.94</td>\n",
              "      <td>149334.00</td>\n",
              "      <td>130.92</td>\n",
              "      <td>408950.00</td>\n",
              "    </tr>\n",
              "    <tr>\n",
              "      <th>max</th>\n",
              "      <td>10.51</td>\n",
              "      <td>100.00</td>\n",
              "      <td>1.129810e+11</td>\n",
              "      <td>27.14</td>\n",
              "      <td>1.216519e+12</td>\n",
              "      <td>124.70</td>\n",
              "      <td>14.70</td>\n",
              "      <td>4.743880e+11</td>\n",
              "      <td>83.98</td>\n",
              "      <td>1.324517e+09</td>\n",
              "      <td>...</td>\n",
              "      <td>2.285490e+11</td>\n",
              "      <td>26.54</td>\n",
              "      <td>192.52</td>\n",
              "      <td>164.77</td>\n",
              "      <td>138.56</td>\n",
              "      <td>56.62</td>\n",
              "      <td>5.69</td>\n",
              "      <td>9640591.00</td>\n",
              "      <td>173.51</td>\n",
              "      <td>4052646.00</td>\n",
              "    </tr>\n",
              "  </tbody>\n",
              "</table>\n",
              "<p>8 rows × 24 columns</p>\n",
              "</div>\n",
              "      <button class=\"colab-df-convert\" onclick=\"convertToInteractive('df-5fd2de29-996d-4a07-97d7-42e6fc526fc3')\"\n",
              "              title=\"Convert this dataframe to an interactive table.\"\n",
              "              style=\"display:none;\">\n",
              "        \n",
              "  <svg xmlns=\"http://www.w3.org/2000/svg\" height=\"24px\"viewBox=\"0 0 24 24\"\n",
              "       width=\"24px\">\n",
              "    <path d=\"M0 0h24v24H0V0z\" fill=\"none\"/>\n",
              "    <path d=\"M18.56 5.44l.94 2.06.94-2.06 2.06-.94-2.06-.94-.94-2.06-.94 2.06-2.06.94zm-11 1L8.5 8.5l.94-2.06 2.06-.94-2.06-.94L8.5 2.5l-.94 2.06-2.06.94zm10 10l.94 2.06.94-2.06 2.06-.94-2.06-.94-.94-2.06-.94 2.06-2.06.94z\"/><path d=\"M17.41 7.96l-1.37-1.37c-.4-.4-.92-.59-1.43-.59-.52 0-1.04.2-1.43.59L10.3 9.45l-7.72 7.72c-.78.78-.78 2.05 0 2.83L4 21.41c.39.39.9.59 1.41.59.51 0 1.02-.2 1.41-.59l7.78-7.78 2.81-2.81c.8-.78.8-2.07 0-2.86zM5.41 20L4 18.59l7.72-7.72 1.47 1.35L5.41 20z\"/>\n",
              "  </svg>\n",
              "      </button>\n",
              "      \n",
              "  <style>\n",
              "    .colab-df-container {\n",
              "      display:flex;\n",
              "      flex-wrap:wrap;\n",
              "      gap: 12px;\n",
              "    }\n",
              "\n",
              "    .colab-df-convert {\n",
              "      background-color: #E8F0FE;\n",
              "      border: none;\n",
              "      border-radius: 50%;\n",
              "      cursor: pointer;\n",
              "      display: none;\n",
              "      fill: #1967D2;\n",
              "      height: 32px;\n",
              "      padding: 0 0 0 0;\n",
              "      width: 32px;\n",
              "    }\n",
              "\n",
              "    .colab-df-convert:hover {\n",
              "      background-color: #E2EBFA;\n",
              "      box-shadow: 0px 1px 2px rgba(60, 64, 67, 0.3), 0px 1px 3px 1px rgba(60, 64, 67, 0.15);\n",
              "      fill: #174EA6;\n",
              "    }\n",
              "\n",
              "    [theme=dark] .colab-df-convert {\n",
              "      background-color: #3B4455;\n",
              "      fill: #D2E3FC;\n",
              "    }\n",
              "\n",
              "    [theme=dark] .colab-df-convert:hover {\n",
              "      background-color: #434B5C;\n",
              "      box-shadow: 0px 1px 3px 1px rgba(0, 0, 0, 0.15);\n",
              "      filter: drop-shadow(0px 1px 2px rgba(0, 0, 0, 0.3));\n",
              "      fill: #FFFFFF;\n",
              "    }\n",
              "  </style>\n",
              "\n",
              "      <script>\n",
              "        const buttonEl =\n",
              "          document.querySelector('#df-5fd2de29-996d-4a07-97d7-42e6fc526fc3 button.colab-df-convert');\n",
              "        buttonEl.style.display =\n",
              "          google.colab.kernel.accessAllowed ? 'block' : 'none';\n",
              "\n",
              "        async function convertToInteractive(key) {\n",
              "          const element = document.querySelector('#df-5fd2de29-996d-4a07-97d7-42e6fc526fc3');\n",
              "          const dataTable =\n",
              "            await google.colab.kernel.invokeFunction('convertToInteractive',\n",
              "                                                     [key], {});\n",
              "          if (!dataTable) return;\n",
              "\n",
              "          const docLinkHtml = 'Like what you see? Visit the ' +\n",
              "            '<a target=\"_blank\" href=https://colab.research.google.com/notebooks/data_table.ipynb>data table notebook</a>'\n",
              "            + ' to learn more about interactive tables.';\n",
              "          element.innerHTML = '';\n",
              "          dataTable['output_type'] = 'display_data';\n",
              "          await google.colab.output.renderOutput(dataTable, element);\n",
              "          const docLink = document.createElement('div');\n",
              "          docLink.innerHTML = docLinkHtml;\n",
              "          element.appendChild(docLink);\n",
              "        }\n",
              "      </script>\n",
              "    </div>\n",
              "  </div>\n",
              "  "
            ]
          },
          "metadata": {},
          "execution_count": 277
        }
      ]
    },
    {
      "cell_type": "code",
      "source": [
        "print(\"La moyenne du taux de croissance en 2016 (dans la BDD) était de \" , round(db['CROIS_2016'].mean(),2), \"%. \")"
      ],
      "metadata": {
        "id": "DW3W1YKPPQti"
      },
      "execution_count": 316,
      "outputs": []
    },
    {
      "cell_type": "code",
      "source": [
        "print(\"Le taux de croissance le + élevé en 2016 (dans la BDD) était\" , round(db['CROIS_2016'].max(),2), \"%. alors que le minimum était de :\", round(db['CROIS_2016'].min(),2), \"%.\")"
      ],
      "metadata": {
        "colab": {
          "base_uri": "https://localhost:8080/"
        },
        "id": "1yU24IXjO2mW",
        "outputId": "27853deb-d0ee-4e4c-8ac6-6a396ee54b71"
      },
      "execution_count": 327,
      "outputs": [
        {
          "output_type": "stream",
          "name": "stdout",
          "text": [
            "Le taux de croissance le + élevé en 2016 (dans la BDD) était 10.51 %. alors que le minimum était de : -3.28 %.\n"
          ]
        }
      ]
    },
    {
      "cell_type": "code",
      "source": [
        "db['CROIS_2016'].idxmax()\n",
        "#ici j'aurais bien aimé récupérer le nom du pays mais ça n'a pas de sens j'ai 140 en index (>taille DB)\n",
        "#df.iloc[140,:]"
      ],
      "metadata": {
        "colab": {
          "base_uri": "https://localhost:8080/"
        },
        "id": "BgiJK_V3QjYr",
        "outputId": "7b18b23b-98da-4dd4-ffff-24a936e13385"
      },
      "execution_count": 341,
      "outputs": [
        {
          "output_type": "execute_result",
          "data": {
            "text/plain": [
              "140"
            ]
          },
          "metadata": {},
          "execution_count": 341
        }
      ]
    },
    {
      "cell_type": "markdown",
      "source": [
        "###Partie graphique"
      ],
      "metadata": {
        "id": "je6Nn8E3OwDc"
      }
    },
    {
      "cell_type": "code",
      "source": [
        "# module permettant de générer des nb aléatoires\n",
        "import random\n",
        "# création de notre liste\n",
        "list_var=[]\n",
        "# notre boucle aura 15 itérations\n",
        "for i in range(15):\n",
        "   # on génère aléatoirement un chiffre compris entre 0 et 25 (nb de var)\n",
        "   x=random.randint(0,25)\n",
        "   # on vérifie que le chiffre n'est pas déjà dans list_var\n",
        "   if x not in list_var:\n",
        "      # appending the random number to the resultant list, if the condition is true\n",
        "      list_var.append(x)\n",
        "# printing the resultant random numbers list\n",
        "print(\"les variables retirées sont\")\n",
        "print(list_var)"
      ],
      "metadata": {
        "colab": {
          "base_uri": "https://localhost:8080/"
        },
        "id": "XXURzDGXXcoa",
        "outputId": "ff8c9ff0-51e1-44dd-bb71-9a628eabd3b6"
      },
      "execution_count": 188,
      "outputs": [
        {
          "output_type": "stream",
          "name": "stdout",
          "text": [
            "les variables retirées sont\n",
            "[7, 21, 22, 9, 14, 16, 15, 20, 25, 5, 11]\n"
          ]
        }
      ]
    },
    {
      "cell_type": "code",
      "source": [
        "#on ajoute 0 dans liste car nous aucun intérêt d'avoir des graphiques sur le nom des pays\n",
        "if 0 not in list_var:\n",
        "  list_var.append(0)\n",
        "\n",
        "print(\"les variables retirées sont:\", list_var)\n",
        "print(\"notre base est désormais de dimension\", db_2.shape)"
      ],
      "metadata": {
        "colab": {
          "base_uri": "https://localhost:8080/"
        },
        "id": "ONHys6mMz4oC",
        "outputId": "2a0eaf89-44bb-4202-97cf-20e2bc1b0c17"
      },
      "execution_count": 195,
      "outputs": [
        {
          "output_type": "stream",
          "name": "stdout",
          "text": [
            "les variables retirées sont: [7, 21, 22, 9, 14, 16, 15, 20, 25, 5, 11, 0]\n",
            "notre base est désormais de dimension (69, 10)\n"
          ]
        }
      ]
    },
    {
      "cell_type": "code",
      "source": [
        "db_2 = db.drop(db.columns[[13, 18, 4, 15, 14, 12, 21, 19, 9, 7, 20, 11, 5, 8, 3, 0]], axis=1) #mieux d'intégrer list_var ici"
      ],
      "metadata": {
        "id": "cClpM7O5Upq1"
      },
      "execution_count": 281,
      "outputs": []
    },
    {
      "cell_type": "code",
      "source": [
        "#On génère un histogramme pour chacune des variables\n",
        "\n",
        "sns.set_palette(\"pastel\")\n",
        "\n",
        "for i in db_2.columns:\n",
        "    \n",
        "    plt.figure()\n",
        "    plt.title(f'{i}')\n",
        "    plt.hist(db_2[i])\n",
        "\n",
        "#ça aurait pu être plus joli avec subplot"
      ],
      "metadata": {
        "id": "DaWzi0BYAO9Y",
        "colab": {
          "base_uri": "https://localhost:8080/",
          "height": 1000
        },
        "outputId": "09db229a-46bd-4f96-efcd-69f4fa3603b0"
      },
      "execution_count": 282,
      "outputs": [
        {
          "output_type": "display_data",
          "data": {
            "text/plain": [
              "<Figure size 432x288 with 1 Axes>"
            ],
            "image/png": "[encoded data removed]"
          },
          "metadata": {
            "needs_background": "light"
          }
        },
        {
          "output_type": "display_data",
          "data": {
            "text/plain": [
              "<Figure size 432x288 with 1 Axes>"
            ],
            "image/png": "[encoded data removed]"
          },
          "metadata": {
            "needs_background": "light"
          }
        },
        {
          "output_type": "display_data",
          "data": {
            "text/plain": [
              "<Figure size 432x288 with 1 Axes>"
            ],
            "image/png": "[encoded data removed]"
          },
          "metadata": {
            "needs_background": "light"
          }
        },
        {
          "output_type": "display_data",
          "data": {
            "text/plain": [
              "<Figure size 432x288 with 1 Axes>"
            ],
            "image/png": "[encoded data removed]"
          },
          "metadata": {
            "needs_background": "light"
          }
        },
        {
          "output_type": "display_data",
          "data": {
            "text/plain": [
              "<Figure size 432x288 with 1 Axes>"
            ],
            "image/png": "[encoded data removed]"
          },
          "metadata": {
            "needs_background": "light"
          }
        },
        {
          "output_type": "display_data",
          "data": {
            "text/plain": [
              "<Figure size 432x288 with 1 Axes>"
            ],
            "image/png": "[encoded data removed]"
          },
          "metadata": {
            "needs_background": "light"
          }
        },
        {
          "output_type": "display_data",
          "data": {
            "text/plain": [
              "<Figure size 432x288 with 1 Axes>"
            ],
            "image/png": "[encoded data removed]"
          },
          "metadata": {
            "needs_background": "light"
          }
        },
        {
          "output_type": "display_data",
          "data": {
            "text/plain": [
              "<Figure size 432x288 with 1 Axes>"
            ],
            "image/png": "[encoded data removed]"
          },
          "metadata": {
            "needs_background": "light"
          }
        },
        {
          "output_type": "display_data",
          "data": {
            "text/plain": [
              "<Figure size 432x288 with 1 Axes>"
            ],
            "image/png": "[encoded data removed]"
          },
          "metadata": {
            "needs_background": "light"
          }
        }
      ]
    },
    {
      "cell_type": "code",
      "source": [
        "import seaborn as sns\n",
        "\n",
        "sns.set_palette(\"Set2\")\n",
        "\n",
        "plt.subplot(1, 3, 1) # row 1, col 2 index 1\n",
        "plt.title(\"taux de croissance des pays en 2016\")\n",
        "sns.boxplot(y=db_2['CROIS_2016'])\n",
        "\n",
        "\n",
        "plt.subplot(1, 3, 3) # row 1, col 2 index 1\n",
        "plt.title(\"taux de chômage en 2016 (%)\")\n",
        "sns.boxplot(y=db_2['CHO_2016'])\n",
        "\n",
        "plt.show()\n",
        "print(\"Il semble y avoir des individus potentiellement atypiques pour ces deux variables.\")"
      ],
      "metadata": {
        "colab": {
          "base_uri": "https://localhost:8080/",
          "height": 285
        },
        "id": "2oSKujNRd8E-",
        "outputId": "cc5de4e6-097c-463d-e3d5-54b30b75339f"
      },
      "execution_count": 288,
      "outputs": [
        {
          "output_type": "display_data",
          "data": {
            "text/plain": [
              "<Figure size 432x288 with 2 Axes>"
            ],
            "image/png": "[encoded data removed]"
          },
          "metadata": {
            "needs_background": "light"
          }
        },
        {
          "output_type": "stream",
          "name": "stdout",
          "text": [
            "Il semble y avoir des individus potentiellement atypiques pour ces deux variables.\n"
          ]
        }
      ]
    },
    {
      "cell_type": "code",
      "source": [
        "#!pip install OUTLIERS\n",
        "from outliers import smirnov_grubbs as grubbs\n",
        "\n",
        "#ça fonctionne pas dommage\n",
        "#de toute façon ici ce n'est pas un test de grubbs car plus d'1 idv potentiellement atypique\n",
        "#chercher autre méthode"
      ],
      "metadata": {
        "id": "Kt8WGQEa-9Em"
      },
      "execution_count": null,
      "outputs": []
    },
    {
      "cell_type": "code",
      "source": [
        "#Fonction pour faire matrice des correlations\n",
        "def correlation_matrix(df):\n",
        "    mask = np.triu(np.ones_like(df.corr(), dtype=bool))\n",
        "    plt.figure(figsize=(10,10), dpi = 70)\n",
        "    sns.heatmap(df.corr(), mask=mask, center=0, cmap='RdBu_r', \n",
        "                linewidths=1, annot=True, fmt=\".2f\")\n",
        "    plt.title('Matrice des corrélations', fontsize = 13, fontweight='bold')\n",
        "    plt.show()"
      ],
      "metadata": {
        "id": "fmdr8LXGCJ8X"
      },
      "execution_count": 291,
      "outputs": []
    },
    {
      "cell_type": "code",
      "source": [
        "correlation_matrix(db_2)\n",
        "#comme je ne me souviens pas de la signification de la plupart des variables\n",
        "#on retiendra que le taux de mortalité est fortement corrélé négativement avec le % de la population ayant \n",
        "#accès à l'éléctrécité ou encore que le taux de chômage est relativement corrélé négativement avec le taux de croissance ..."
      ],
      "metadata": {
        "colab": {
          "base_uri": "https://localhost:8080/",
          "height": 655
        },
        "id": "XKcAONWyG1Rw",
        "outputId": "bb15a2bd-6951-44ae-a54c-92cb696ccf12"
      },
      "execution_count": 292,
      "outputs": [
        {
          "output_type": "display_data",
          "data": {
            "text/plain": [
              "<Figure size 700x700 with 2 Axes>"
            ],
            "image/png": "[encoded data removed]"
          },
          "metadata": {
            "needs_background": "light"
          }
        }
      ]
    },
    {
      "cell_type": "code",
      "source": [
        "import seaborn as sns\n",
        "\n",
        "sns.set_palette(\"flare\")\n",
        "\n",
        "plt.subplot(121)\n",
        "plot = sns.scatterplot(x='CROIS_2016',y='CHO_2016',data=db_2)\n",
        "\n",
        "plt.subplot(122) \n",
        "plot = sns.scatterplot(x='CROIS_2016',y='TXMORTI_2016',data=db_2)\n",
        "\n",
        "#j'aimerais bien arriver à les séparer plus mais je n'arrive pas vraiment à manier figsize"
      ],
      "metadata": {
        "colab": {
          "base_uri": "https://localhost:8080/",
          "height": 296
        },
        "id": "H9cYyYn_H_kx",
        "outputId": "9b37cf41-e01e-4abb-842e-157e8e3a9b6f"
      },
      "execution_count": 307,
      "outputs": [
        {
          "output_type": "display_data",
          "data": {
            "text/plain": [
              "<Figure size 432x288 with 2 Axes>"
            ],
            "image/png": "[encoded data removed]"
          },
          "metadata": {
            "needs_background": "light"
          }
        }
      ]
    },
    {
      "cell_type": "code",
      "source": [],
      "metadata": {
        "id": "WVnv0iHmx4ER"
      },
      "execution_count": 204,
      "outputs": []
    },
    {
      "cell_type": "code",
      "source": [],
      "metadata": {
        "id": "czc1As1HQh70"
      },
      "execution_count": 55,
      "outputs": []
    }
  ]
}